{
 "cells": [
  {
   "cell_type": "code",
   "execution_count": 2,
   "metadata": {},
   "outputs": [
    {
     "name": "stderr",
     "output_type": "stream",
     "text": [
      "WARNING:root:No normalization for BCUT2D_MWHI\n",
      "WARNING:root:No normalization for BCUT2D_MWLOW\n",
      "WARNING:root:No normalization for BCUT2D_CHGHI\n",
      "WARNING:root:No normalization for BCUT2D_CHGLO\n",
      "WARNING:root:No normalization for BCUT2D_LOGPHI\n",
      "WARNING:root:No normalization for BCUT2D_LOGPLOW\n",
      "WARNING:root:No normalization for BCUT2D_MRHI\n",
      "WARNING:root:No normalization for BCUT2D_MRLOW\n"
     ]
    }
   ],
   "source": [
    "import os\n",
    "import chemprop\n",
    "import pandas as pd\n",
    "import matplotlib.pyplot as plt\n",
    "from matplotlib.offsetbox import AnchoredText\n",
    "from sklearn.metrics import mean_absolute_error, mean_squared_error\n",
    "from sklearn.decomposition import PCA\n",
    "import scipy \n",
    "import glob\n"
   ]
  },
  {
   "cell_type": "code",
   "execution_count": 5,
   "metadata": {},
   "outputs": [],
   "source": [
    "regression_csvs = [ '/home/ymyung/projects/deeppk/1_dataset/pk_data/processed_data/pkcsm_vs_interpretable_admet/bbb_training.csv', '/home/ymyung/projects/deeppk/1_dataset/pk_data/processed_data/pkcsm_vs_interpretable_admet/log_s_training.csv']"
   ]
  },
  {
   "cell_type": "code",
   "execution_count": 6,
   "metadata": {},
   "outputs": [],
   "source": [
    "classification_csvs = ['/home/ymyung/projects/deeppk/1_dataset/pk_data/processed_data/pkcsm_vs_interpretable_admet/cyp2d6_inhibitor_training.csv',\n",
    " '/home/ymyung/projects/deeppk/1_dataset/pk_data/processed_data/pkcsm_vs_interpretable_admet/cyp3a4_substrate_training.csv',\n",
    " '/home/ymyung/projects/deeppk/1_dataset/pk_data/processed_data/pkcsm_vs_interpretable_admet/pgp_inhibitor_training.csv',\n",
    " '/home/ymyung/projects/deeppk/1_dataset/pk_data/processed_data/pkcsm_vs_interpretable_admet/cyp3a4_inhibitor_training.csv',\n",
    " '/home/ymyung/projects/deeppk/1_dataset/pk_data/processed_data/pkcsm_vs_interpretable_admet/oct2_training.csv',\n",
    " '/home/ymyung/projects/deeppk/1_dataset/pk_data/processed_data/pkcsm_vs_interpretable_admet/cyp2c19_inhibitor_training.csv',\n",
    " '/home/ymyung/projects/deeppk/1_dataset/pk_data/processed_data/pkcsm_vs_interpretable_admet/caco_2_classification_training.csv',\n",
    " '/home/ymyung/projects/deeppk/1_dataset/pk_data/processed_data/pkcsm_vs_interpretable_admet/cyp1a2_inhibitor_training.csv',\n",
    " '/home/ymyung/projects/deeppk/1_dataset/pk_data/processed_data/pkcsm_vs_interpretable_admet/pgp_substrate_training.csv',\n",
    " '/home/ymyung/projects/deeppk/1_dataset/pk_data/processed_data/pkcsm_vs_interpretable_admet/cyp2c9_inhibitor_training.csv',\n",
    " '/home/ymyung/projects/deeppk/1_dataset/pk_data/processed_data/pkcsm_vs_interpretable_admet/cyp2d6_substrate_training.csv']\n"
   ]
  },
  {
   "cell_type": "markdown",
   "metadata": {},
   "source": [
    "### Regression"
   ]
  },
  {
   "cell_type": "code",
   "execution_count": 7,
   "metadata": {},
   "outputs": [
    {
     "name": "stderr",
     "output_type": "stream",
     "text": [
      "13976it [00:00, 394463.16it/s]\n",
      "  3%|▎         | 407/13976 [00:15<08:11, 27.59it/s]ERROR:root:Could not compute PEOE_VSA12 for molecule\n",
      "Traceback (most recent call last):\n",
      "  File \"/home/ymyung/miniconda3/envs/chemprop/lib/python3.10/site-packages/numpy/core/fromnumeric.py\", line 40, in _wrapit\n",
      "    wrap = obj.__array_wrap__\n",
      "AttributeError: 'float' object has no attribute '__array_wrap__'\n",
      "\n",
      "During handling of the above exception, another exception occurred:\n",
      "\n",
      "Traceback (most recent call last):\n",
      "  File \"/home/ymyung/miniconda3/envs/chemprop/lib/python3.10/site-packages/descriptastorus/descriptors/rdNormalizedDescriptors.py\", line 62, in applyNormalizedFunc\n",
      "    return cdfs[name](rdDescriptors.applyFunc(name,m))\n",
      "  File \"/home/ymyung/miniconda3/envs/chemprop/lib/python3.10/site-packages/descriptastorus/descriptors/rdNormalizedDescriptors.py\", line 49, in cdf\n",
      "    v = dist.cdf(np.clip(v, minV, maxV), loc=loc, scale=scale, *arg)\n",
      "  File \"<__array_function__ internals>\", line 180, in clip\n",
      "  File \"/home/ymyung/miniconda3/envs/chemprop/lib/python3.10/site-packages/numpy/core/fromnumeric.py\", line 2154, in clip\n",
      "    return _wrapfunc(a, 'clip', a_min, a_max, out=out, **kwargs)\n",
      "  File \"/home/ymyung/miniconda3/envs/chemprop/lib/python3.10/site-packages/numpy/core/fromnumeric.py\", line 54, in _wrapfunc\n",
      "    return _wrapit(obj, method, *args, **kwds)\n",
      "  File \"/home/ymyung/miniconda3/envs/chemprop/lib/python3.10/site-packages/numpy/core/fromnumeric.py\", line 40, in _wrapit\n",
      "    wrap = obj.__array_wrap__\n",
      "KeyboardInterrupt\n",
      "  5%|▌         | 752/13976 [00:28<07:49, 28.14it/s]"
     ]
    }
   ],
   "source": [
    "\n",
    "# training_csv = '/home/ymyung/projects/deeppk/1_dataset/pk_data/processed_data/pkcsm_vs_interpretable_admet/log_s_training.csv'\n",
    "# test_csv = '/home/ymyung/projects/deeppk/1_dataset/pk_data/processed_data/pkcsm_vs_interpretable_admet/log_s_test.csv'\n",
    "# training_csvs =  glob.glob('/home/ymyung/projects/deeppk/1_dataset/pk_data/processed_data/pkcsm_vs_interpretable_admet/*training.csv')\n",
    "for training_csv in regression_csvs:\n",
    "    save_dir = os.path.join('/home/ymyung/projects/deeppk/3_Results/pkCSM_vs_interpretable_ADMET','MPNN/',os.path.basename(training_csv).split('.csv')[0])\n",
    "    test_csv = training_csv.split('_training.csv')[0]+'_test.csv'\n",
    "    arguments = [\n",
    "    '--data_path', training_csv,\n",
    "    '--target_columns','label',\n",
    "    '--dataset_type', 'regression',\n",
    "    '--save_dir', save_dir,\n",
    "    '--epochs', '100',\n",
    "    '--split_type','cv',\n",
    "    '--num_folds','3',\n",
    "    '--save_smiles_splits',\n",
    "    '--quiet',\n",
    "    '--show_individual_scores',\n",
    "    '--metric', 'rmse',\n",
    "    '--extra_metrics', 'r2', 'mse','mae',\n",
    "    '--save_preds',\n",
    "    # '--ensemble_size', '5',\n",
    "    '--gpu',0,\n",
    "    '--features_generator','rdkit_2d_normalized', # additional\n",
    "    '--no_features_scaling' # additional    \n",
    "    ]\n",
    "\n",
    "    args = chemprop.args.TrainArgs().parse_args(arguments)\n",
    "    mean_score, std_score = chemprop.train.cross_validate(args=args, train_func=chemprop.train.run_training)\n",
    "\n",
    "    arguments = [\n",
    "    '--test_path', test_csv,\n",
    "    '--preds_path', '{}/test_preds_cla.csv'.format(save_dir),\n",
    "    '--checkpoint_dir', save_dir,\n",
    "    '--features_generator','rdkit_2d_normalized', # additional\n",
    "    '--no_features_scaling' # additional\n",
    "    ]\n",
    "\n",
    "    args = chemprop.args.PredictArgs().parse_args(arguments)\n",
    "    preds = chemprop.train.make_predictions(args=args)\n",
    "\n",
    "    # df = pd.read_csv('{}/fold_0/test_full.csv'.format(save_dir))\n",
    "    # df['preds'] = [x[0] for x in preds]\n",
    " "
   ]
  },
  {
   "cell_type": "markdown",
   "metadata": {},
   "source": [
    "### Classification"
   ]
  },
  {
   "cell_type": "code",
   "execution_count": 2,
   "metadata": {},
   "outputs": [
    {
     "name": "stderr",
     "output_type": "stream",
     "text": [
      "650it [00:00, 330180.16it/s]\n",
      "100%|██████████| 650/650 [00:27<00:00, 23.82it/s]\n",
      "100%|██████████| 650/650 [00:00<00:00, 128356.76it/s]\n",
      "Fold 0\n",
      "1411it [00:00, 327785.26it/s]\n",
      "100%|██████████| 1411/1411 [01:00<00:00, 23.19it/s]\n",
      "100%|██████████| 1411/1411 [00:00<00:00, 140969.06it/s]\n",
      "100%|██████████| 650/650 [00:00<00:00, 5133.99it/s]\n",
      "650it [00:00, 390195.73it/s]\n",
      "Warning: SMILES string in test could not be found in data file, and likely came from a secondary data file. The pickle file of split indices can only indicate indices for a single file and will not be generated.\n",
      "100%|██████████| 100/100 [00:43<00:00,  2.32it/s]\n",
      "Model 0 best validation mcc = 0.568823 on epoch 83\n",
      "Model 0 test mcc = 0.160738                    \n",
      "Model 0 test label mcc = 0.160738\n",
      "Model 0 test f1 = 0.445352\n",
      "Model 0 test label f1 = 0.445352\n",
      "Model 0 test auc = 0.627835\n",
      "Model 0 test label auc = 0.627835\n",
      "Model 0 test accuracy = 0.615167\n",
      "Model 0 test label accuracy = 0.615167\n",
      "Ensemble test mcc = 0.160738\n",
      "Ensemble test label mcc = 0.160738\n",
      "Ensemble test f1 = 0.445352\n",
      "Ensemble test label f1 = 0.445352\n",
      "Ensemble test auc = 0.627835\n",
      "Ensemble test label auc = 0.627835\n",
      "Ensemble test accuracy = 0.615167\n",
      "Ensemble test label accuracy = 0.615167\n",
      "1-fold cross validation\n",
      "\tSeed 0 ==> test mcc = 0.160738\n",
      "\t\tSeed 0 ==> test label mcc = 0.160738\n",
      "\tSeed 0 ==> test f1 = 0.445352\n",
      "\t\tSeed 0 ==> test label f1 = 0.445352\n",
      "\tSeed 0 ==> test auc = 0.627835\n",
      "\t\tSeed 0 ==> test label auc = 0.627835\n",
      "\tSeed 0 ==> test accuracy = 0.615167\n",
      "\t\tSeed 0 ==> test label accuracy = 0.615167\n",
      "Overall test mcc = 0.160738 +/- 0.000000\n",
      "\tOverall test label mcc = 0.160738 +/- 0.000000\n",
      "Overall test f1 = 0.445352 +/- 0.000000\n",
      "\tOverall test label f1 = 0.445352 +/- 0.000000\n",
      "Overall test auc = 0.627835 +/- 0.000000\n",
      "\tOverall test label auc = 0.627835 +/- 0.000000\n",
      "Overall test accuracy = 0.615167 +/- 0.000000\n",
      "\tOverall test label accuracy = 0.615167 +/- 0.000000\n",
      "Elapsed time = 0:02:15\n"
     ]
    },
    {
     "name": "stdout",
     "output_type": "stream",
     "text": [
      "Loading training args\n",
      "Setting molecule featurization parameters to default.\n",
      "Loading data\n"
     ]
    },
    {
     "name": "stderr",
     "output_type": "stream",
     "text": [
      "1411it [00:00, 422605.18it/s]\n",
      "100%|██████████| 1411/1411 [01:00<00:00, 23.15it/s]\n"
     ]
    },
    {
     "name": "stdout",
     "output_type": "stream",
     "text": [
      "Validating SMILES\n",
      "Test size = 1,411\n"
     ]
    },
    {
     "name": "stderr",
     "output_type": "stream",
     "text": [
      "  0%|          | 0/1 [00:00<?, ?it/s]"
     ]
    },
    {
     "name": "stdout",
     "output_type": "stream",
     "text": [
      "Loading pretrained parameter \"encoder.encoder.0.cached_zero_vector\".\n",
      "Loading pretrained parameter \"encoder.encoder.0.W_i.weight\".\n",
      "Loading pretrained parameter \"encoder.encoder.0.W_h.weight\".\n",
      "Loading pretrained parameter \"encoder.encoder.0.W_o.weight\".\n",
      "Loading pretrained parameter \"encoder.encoder.0.W_o.bias\".\n",
      "Loading pretrained parameter \"ffn.1.weight\".\n",
      "Loading pretrained parameter \"ffn.1.bias\".\n",
      "Loading pretrained parameter \"ffn.4.weight\".\n",
      "Loading pretrained parameter \"ffn.4.bias\".\n",
      "Moving model to cuda\n"
     ]
    },
    {
     "name": "stderr",
     "output_type": "stream",
     "text": [
      "100%|██████████| 1/1 [00:01<00:00,  1.28s/it]\n"
     ]
    },
    {
     "name": "stdout",
     "output_type": "stream",
     "text": [
      "Saving predictions to /home/ymyung/projects/deeppk/3_Results/pkCSM_vs_interpretable_ADMET/MPNN/caco_2_classification_training/test_preds_cla.csv\n",
      "Elapsed time = 0:01:02\n"
     ]
    }
   ],
   "source": [
    "\n",
    "# training_csv = '/home/ymyung/projects/deeppk/1_dataset/pk_data/processed_data/pkcsm_vs_interpretable_admet/caco_2_classification_training.csv'\n",
    "# test_csv = '/home/ymyung/projects/deeppk/1_dataset/pk_data/processed_data/pkcsm_vs_interpretable_admet/caco_2_classification_test.csv'\n",
    "for training_csv in classification_csvs:\n",
    "    save_dir = os.path.join('/home/ymyung/projects/deeppk/3_Results/pkCSM_vs_interpretable_ADMET','MPNN/',os.path.basename(training_csv).split('.csv')[0])\n",
    "    test_csv = training_csv.split('_training.csv')[0]+'_test.csv'\n",
    "\n",
    "    arguments = [\n",
    "    '--data_path', training_csv,\n",
    "    '--target_columns','label',\n",
    "    '--dataset_type', 'classification',\n",
    "    '--save_dir', save_dir,\n",
    "    '--epochs', '100',\n",
    "    '--split_type','scaffold_balanced',\n",
    "    # '--num_folds','3',\n",
    "    '--save_smiles_splits',\n",
    "    '--quiet',\n",
    "    '--show_individual_scores',\n",
    "    '--metric','mcc',\n",
    "    '--extra_metrics', 'f1','auc','accuracy',\n",
    "    '--save_preds',\n",
    "    '--separate_test_path',test_csv,\n",
    "    # '--ensemble_size', '5',\n",
    "    '--gpu',0,\n",
    "    '--features_generator','rdkit_2d_normalized', # additional\n",
    "    '--no_features_scaling' # additional    \n",
    "    ]\n",
    "\n",
    "    args = chemprop.args.TrainArgs().parse_args(arguments)\n",
    "    mean_score, std_score = chemprop.train.cross_validate(args=args, train_func=chemprop.train.run_training)\n",
    "\n",
    "    arguments = [\n",
    "    '--test_path', test_csv,\n",
    "    '--preds_path', '{}/test_preds_cla.csv'.format(save_dir),\n",
    "    '--checkpoint_dir', save_dir,\n",
    "    '--features_generator','rdkit_2d_normalized', # additional\n",
    "    '--no_features_scaling' # additional\n",
    "    ]\n",
    "\n",
    "    args = chemprop.args.PredictArgs().parse_args(arguments)\n",
    "    preds = chemprop.train.make_predictions(args=args)\n",
    "\n",
    "    # df = pd.read_csv('{}/fold_0/test_full.csv'.format(save_dir))\n",
    "    # df['preds'] = [x[0] for x in preds]\n",
    " "
   ]
  }
 ],
 "metadata": {
  "kernelspec": {
   "display_name": "Python 3.10.6 ('chemprop')",
   "language": "python",
   "name": "python3"
  },
  "language_info": {
   "codemirror_mode": {
    "name": "ipython",
    "version": 3
   },
   "file_extension": ".py",
   "mimetype": "text/x-python",
   "name": "python",
   "nbconvert_exporter": "python",
   "pygments_lexer": "ipython3",
   "version": "3.10.6"
  },
  "orig_nbformat": 4,
  "vscode": {
   "interpreter": {
    "hash": "834cb905a9317a2cbe60a71f431abd1beea746a2987041bd0d3fa1f6d16703ae"
   }
  }
 },
 "nbformat": 4,
 "nbformat_minor": 2
}
