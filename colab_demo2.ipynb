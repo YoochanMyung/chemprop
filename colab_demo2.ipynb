{
  "cells": [
    {
      "cell_type": "markdown",
      "metadata": {
        "colab_type": "text",
        "id": "view-in-github"
      },
      "source": [
        "<a href=\"https://colab.research.google.com/github/chemprop/chemprop/blob/master/colab_demo.ipynb\" target=\"_parent\"><img src=\"https://colab.research.google.com/assets/colab-badge.svg\" alt=\"Open In Colab\"/></a>"
      ]
    },
    {
      "cell_type": "markdown",
      "metadata": {
        "id": "T2XDc8RVq6p6"
      },
      "source": [
        "Please note that this notebook is intended to be run in Google Colab rather than as a Jupyter notebook on your local machine. Please click the \"Open in Colab\" button."
      ]
    },
    {
      "cell_type": "markdown",
      "metadata": {
        "id": "6jZnD-vU9Fd-"
      },
      "source": [
        "# Setup"
      ]
    },
    {
      "cell_type": "code",
      "execution_count": 12,
      "metadata": {
        "colab": {
          "base_uri": "https://localhost:8080/",
          "height": 1000
        },
        "id": "WGZxehx_44Rj",
        "outputId": "32702633-b1be-4f8c-95d6-44b785b3cd05"
      },
      "outputs": [],
      "source": [
        "import os\n",
        "import chemprop\n",
        "import pandas as pd\n",
        "import matplotlib.pyplot as plt\n",
        "from matplotlib.offsetbox import AnchoredText\n",
        "from sklearn.metrics import mean_absolute_error, mean_squared_error\n",
        "from sklearn.decomposition import PCA\n",
        "import scipy \n",
        "import glob\n",
        "\n",
        "# You can safely ignore the following errors and do not need to restart the runtime; all subsequent cells should still execute without errors:\n",
        "\n",
        "# ERROR: pip's dependency resolver does not currently take into account all the packages that are installed. This behaviour is the source of the following dependency conflicts.\n",
        "# datascience 0.10.6 requires folium==0.2.1, but you have folium 0.8.3 which is incompatible.\n",
        "\n",
        "# WARNING: The following packages were previously imported in this runtime:\n",
        "#   [sphinxcontrib]\n",
        "# You must restart the runtime in order to use newly installed versions."
      ]
    },
    {
      "cell_type": "code",
      "execution_count": 4,
      "metadata": {
        "id": "ZVmFInN_qj4n"
      },
      "outputs": [],
      "source": [
        "def plot_parity(y_true, y_pred, y_pred_unc=None):\n",
        "    \n",
        "    axmin = min(min(y_true), min(y_pred)) - 0.1*(max(y_true)-min(y_true))\n",
        "    axmax = max(max(y_true), max(y_pred)) + 0.1*(max(y_true)-min(y_true))\n",
        "    \n",
        "    mae = mean_absolute_error(y_true, y_pred)\n",
        "    rmse = mean_squared_error(y_true, y_pred, squared=False)\n",
        "    \n",
        "    plt.plot([axmin, axmax], [axmin, axmax], '--k')\n",
        "\n",
        "    plt.errorbar(y_true, y_pred, yerr=y_pred_unc, linewidth=0, marker='o', markeredgecolor='w', alpha=1, elinewidth=1)\n",
        "    \n",
        "    plt.xlim((axmin, axmax))\n",
        "    plt.ylim((axmin, axmax))\n",
        "    \n",
        "    ax = plt.gca()\n",
        "    ax.set_aspect('equal')\n",
        "    \n",
        "    at = AnchoredText(\n",
        "    f\"MAE = {mae:.2f}\\nRMSE = {rmse:.2f}\", prop=dict(size=10), frameon=True, loc='upper left')\n",
        "    at.patch.set_boxstyle(\"round,pad=0.,rounding_size=0.2\")\n",
        "    ax.add_artist(at)\n",
        "    \n",
        "    plt.xlabel('True')\n",
        "    plt.ylabel('Chemprop Predicted')\n",
        "    \n",
        "    plt.show()\n",
        "    \n",
        "    return"
      ]
    },
    {
      "cell_type": "markdown",
      "metadata": {
        "id": "MQ67V6hr_6Yz"
      },
      "source": [
        "# Train regression model"
      ]
    },
    {
      "cell_type": "code",
      "execution_count": 29,
      "metadata": {
        "colab": {
          "base_uri": "https://localhost:8080/"
        },
        "id": "pqtogu2T7OTd",
        "outputId": "62b5e76b-5695-4d12-c0d2-b585093cab5f",
        "scrolled": true
      },
      "outputs": [
        {
          "name": "stderr",
          "output_type": "stream",
          "text": [
            "Command line\n",
            "python /home/ymyung/miniconda3/envs/chemprop/lib/python3.10/site-packages/ipykernel_launcher.py --ip=127.0.0.1 --stdin=9003 --control=9001 --hb=9000 --Session.signature_scheme=\"hmac-sha256\" --Session.key=b\"de1983db-1731-4f9b-bc0f-7b5500797c06\" --shell=9002 --transport=\"tcp\" --iopub=9004 --f=/home/ymyung/.local/share/jupyter/runtime/kernel-v2-92022fO6MVsWPYf14.json\n",
            "Args\n",
            "{'activation': 'ReLU',\n",
            " 'adding_h': False,\n",
            " 'aggregation': 'mean',\n",
            " 'aggregation_norm': 100,\n",
            " 'atom_descriptor_scaling': True,\n",
            " 'atom_descriptors': None,\n",
            " 'atom_descriptors_path': None,\n",
            " 'atom_descriptors_size': 0,\n",
            " 'atom_features_size': 0,\n",
            " 'atom_messages': False,\n",
            " 'batch_size': 50,\n",
            " 'bias': False,\n",
            " 'bias_solvent': False,\n",
            " 'bond_feature_scaling': True,\n",
            " 'bond_features_path': None,\n",
            " 'bond_features_size': 0,\n",
            " 'cache_cutoff': 10000,\n",
            " 'checkpoint_dir': None,\n",
            " 'checkpoint_frzn': None,\n",
            " 'checkpoint_path': None,\n",
            " 'checkpoint_paths': None,\n",
            " 'class_balance': False,\n",
            " 'config_path': None,\n",
            " 'crossval_index_dir': None,\n",
            " 'crossval_index_file': None,\n",
            " 'crossval_index_sets': None,\n",
            " 'cuda': True,\n",
            " 'data_path': '/home/ymyung/projects/deeppk/1_dataset/pk_data/processed_data/0_properties_trimed_Murckos/01_log_d7.4_interpretable_admet.smi',\n",
            " 'data_weights_path': None,\n",
            " 'dataset_type': 'regression',\n",
            " 'depth': 3,\n",
            " 'depth_solvent': 3,\n",
            " 'device': device(type='cuda'),\n",
            " 'dropout': 0.0,\n",
            " 'empty_cache': False,\n",
            " 'ensemble_size': 1,\n",
            " 'epochs': 100,\n",
            " 'evidential_regularization': 0,\n",
            " 'explicit_h': False,\n",
            " 'extra_metrics': [],\n",
            " 'features_generator': None,\n",
            " 'features_only': False,\n",
            " 'features_path': None,\n",
            " 'features_scaling': True,\n",
            " 'features_size': None,\n",
            " 'ffn_hidden_size': 300,\n",
            " 'ffn_num_layers': 2,\n",
            " 'final_lr': 0.0001,\n",
            " 'folds_file': None,\n",
            " 'freeze_first_only': False,\n",
            " 'frzn_ffn_layers': 0,\n",
            " 'gpu': None,\n",
            " 'grad_clip': None,\n",
            " 'hidden_size': 300,\n",
            " 'hidden_size_solvent': 300,\n",
            " 'ignore_columns': None,\n",
            " 'init_lr': 0.0001,\n",
            " 'log_frequency': 10,\n",
            " 'loss_function': 'mse',\n",
            " 'max_data_size': None,\n",
            " 'max_lr': 0.001,\n",
            " 'metric': 'rmse',\n",
            " 'metrics': ['rmse'],\n",
            " 'minimize_score': True,\n",
            " 'mpn_shared': False,\n",
            " 'multiclass_num_classes': 3,\n",
            " 'no_atom_descriptor_scaling': False,\n",
            " 'no_bond_features_scaling': False,\n",
            " 'no_cache_mol': False,\n",
            " 'no_cuda': False,\n",
            " 'no_features_scaling': False,\n",
            " 'num_folds': 1,\n",
            " 'num_lrs': 1,\n",
            " 'num_tasks': 1,\n",
            " 'num_workers': 8,\n",
            " 'number_of_molecules': 1,\n",
            " 'overwrite_default_atom_features': False,\n",
            " 'overwrite_default_bond_features': False,\n",
            " 'phase_features_path': None,\n",
            " 'pytorch_seed': 0,\n",
            " 'quiet': False,\n",
            " 'reaction': False,\n",
            " 'reaction_mode': 'reac_diff',\n",
            " 'reaction_solvent': False,\n",
            " 'resume_experiment': False,\n",
            " 'save_dir': 'test_checkpoints_reg',\n",
            " 'save_preds': False,\n",
            " 'save_smiles_splits': True,\n",
            " 'seed': 0,\n",
            " 'separate_test_atom_descriptors_path': None,\n",
            " 'separate_test_bond_features_path': None,\n",
            " 'separate_test_features_path': None,\n",
            " 'separate_test_path': None,\n",
            " 'separate_test_phase_features_path': None,\n",
            " 'separate_val_atom_descriptors_path': None,\n",
            " 'separate_val_bond_features_path': None,\n",
            " 'separate_val_features_path': None,\n",
            " 'separate_val_path': None,\n",
            " 'separate_val_phase_features_path': None,\n",
            " 'show_individual_scores': False,\n",
            " 'smiles_columns': ['smiles'],\n",
            " 'spectra_activation': 'exp',\n",
            " 'spectra_phase_mask_path': None,\n",
            " 'spectra_target_floor': 1e-08,\n",
            " 'split_key_molecule': 0,\n",
            " 'split_sizes': [0.8, 0.1, 0.1],\n",
            " 'split_type': 'scaffold_balanced',\n",
            " 'target_columns': ['label'],\n",
            " 'target_weights': None,\n",
            " 'task_names': ['label'],\n",
            " 'test': False,\n",
            " 'test_fold_index': None,\n",
            " 'train_data_size': None,\n",
            " 'undirected': False,\n",
            " 'use_input_features': False,\n",
            " 'val_fold_index': None,\n",
            " 'warmup_epochs': 2.0}\n",
            "Setting molecule featurization parameters to default.\n",
            "Loading data\n",
            "2910it [00:00, 386908.79it/s]\n",
            "100%|██████████| 2910/2910 [00:00<00:00, 321102.43it/s]\n",
            "100%|██████████| 2910/2910 [00:00<00:00, 176073.64it/s]\n",
            "Number of tasks = 1\n",
            "Fold 0\n",
            "Splitting data with seed 0\n",
            "100%|██████████| 2910/2910 [00:00<00:00, 6273.81it/s]\n",
            "Total scaffolds = 1,654 | train scaffolds = 1,321 | val scaffolds = 151 | test scaffolds = 182\n",
            "Label averages per scaffold, in decreasing order of scaffold frequency,capped at 10 scaffolds and 20 labels:\n",
            "Scaffold 0\n",
            "Task 0: count = 58 | target average = -0.211552\n",
            "\n",
            "\n",
            "Scaffold 1\n",
            "Task 0: count = 51 | target average = 1.379147\n",
            "\n",
            "\n",
            "Scaffold 2\n",
            "Task 0: count = 35 | target average = 0.239571\n",
            "\n",
            "\n",
            "Scaffold 3\n",
            "Task 0: count = 29 | target average = 2.655172\n",
            "\n",
            "\n",
            "Scaffold 4\n",
            "Task 0: count = 24 | target average = 2.887083\n",
            "\n",
            "\n",
            "Scaffold 5\n",
            "Task 0: count = 20 | target average = 3.223500\n",
            "\n",
            "\n",
            "Scaffold 6\n",
            "Task 0: count = 19 | target average = 1.626316\n",
            "\n",
            "\n",
            "Scaffold 7\n",
            "Task 0: count = 19 | target average = 3.106842\n",
            "\n",
            "\n",
            "Scaffold 8\n",
            "Task 0: count = 18 | target average = 3.027222\n",
            "\n",
            "\n",
            "Scaffold 9\n",
            "Task 0: count = 17 | target average = 2.474706\n",
            "\n",
            "\n",
            "2910it [00:00, 227204.48it/s]\n",
            "Total size = 2,910 | train size = 2,328 | val size = 291 | test size = 291\n",
            "Fitting scaler\n",
            "Building model 0\n",
            "MoleculeModel(\n",
            "  (encoder): MPN(\n",
            "    (encoder): ModuleList(\n",
            "      (0): MPNEncoder(\n",
            "        (dropout_layer): Dropout(p=0.0, inplace=False)\n",
            "        (act_func): ReLU()\n",
            "        (W_i): Linear(in_features=147, out_features=300, bias=False)\n",
            "        (W_h): Linear(in_features=300, out_features=300, bias=False)\n",
            "        (W_o): Linear(in_features=433, out_features=300, bias=True)\n",
            "      )\n",
            "    )\n",
            "  )\n",
            "  (ffn): Sequential(\n",
            "    (0): Dropout(p=0.0, inplace=False)\n",
            "    (1): Linear(in_features=300, out_features=300, bias=True)\n",
            "    (2): ReLU()\n",
            "    (3): Dropout(p=0.0, inplace=False)\n",
            "    (4): Linear(in_features=300, out_features=1, bias=True)\n",
            "  )\n",
            ")\n",
            "Number of parameters = 355,201\n",
            "Moving model to cuda\n",
            "  0%|          | 0/100 [00:00<?, ?it/s]Epoch 0\n",
            "Loss = 1.0198e+00, PNorm = 34.0111, GNorm = 3.5119, lr_0 = 2.0761e-04\n",
            "Loss = 9.8975e-01, PNorm = 34.0150, GNorm = 1.7252, lr_0 = 3.0543e-04\n",
            "Loss = 9.3785e-01, PNorm = 34.0248, GNorm = 8.0487, lr_0 = 4.0326e-04\n",
            "Loss = 9.0470e-01, PNorm = 34.0402, GNorm = 1.4153, lr_0 = 5.0109e-04\n",
            "Validation rmse = 1.199895\n",
            "  1%|          | 1/100 [00:01<02:36,  1.58s/it]Epoch 1\n",
            "Loss = 7.6932e-01, PNorm = 34.0702, GNorm = 0.6569, lr_0 = 6.0870e-04\n",
            "Loss = 8.2371e-01, PNorm = 34.1065, GNorm = 6.7854, lr_0 = 7.0652e-04\n",
            "Loss = 7.5761e-01, PNorm = 34.1506, GNorm = 4.1398, lr_0 = 8.0435e-04\n",
            "Loss = 6.9906e-01, PNorm = 34.2065, GNorm = 6.0360, lr_0 = 9.0217e-04\n",
            "Loss = 6.5714e-01, PNorm = 34.2668, GNorm = 5.9343, lr_0 = 1.0000e-03\n",
            "Validation rmse = 1.088485\n",
            "  2%|▏         | 2/100 [00:03<02:34,  1.58s/it]Epoch 2\n",
            "Loss = 6.4313e-01, PNorm = 34.3449, GNorm = 1.0527, lr_0 = 9.9491e-04\n",
            "Loss = 5.7742e-01, PNorm = 34.4197, GNorm = 4.4203, lr_0 = 9.8984e-04\n",
            "Loss = 4.9634e-01, PNorm = 34.4922, GNorm = 3.0228, lr_0 = 9.8479e-04\n",
            "Loss = 4.2649e-01, PNorm = 34.5685, GNorm = 2.6492, lr_0 = 9.7978e-04\n",
            "Validation rmse = 0.840807\n",
            "  3%|▎         | 3/100 [00:05<02:50,  1.76s/it]Epoch 3\n",
            "Loss = 4.7350e-01, PNorm = 34.6535, GNorm = 3.7391, lr_0 = 9.7429e-04\n",
            "Loss = 3.3441e-01, PNorm = 34.7201, GNorm = 2.8366, lr_0 = 9.6932e-04\n",
            "Loss = 3.9268e-01, PNorm = 34.7735, GNorm = 5.7109, lr_0 = 9.6438e-04\n",
            "Loss = 3.5071e-01, PNorm = 34.8299, GNorm = 3.8134, lr_0 = 9.5947e-04\n",
            "Loss = 3.3062e-01, PNorm = 34.8915, GNorm = 4.3231, lr_0 = 9.5458e-04\n",
            "Validation rmse = 0.751500\n",
            "  4%|▍         | 4/100 [00:06<02:42,  1.70s/it]Epoch 4\n",
            "Loss = 3.1210e-01, PNorm = 34.9554, GNorm = 3.5541, lr_0 = 9.4972e-04\n",
            "Loss = 2.9915e-01, PNorm = 35.0212, GNorm = 8.6959, lr_0 = 9.4488e-04\n",
            "Loss = 3.3085e-01, PNorm = 35.0717, GNorm = 6.6200, lr_0 = 9.4007e-04\n",
            "Loss = 2.8809e-01, PNorm = 35.1186, GNorm = 2.3868, lr_0 = 9.3528e-04\n",
            "Loss = 2.5985e-01, PNorm = 35.1596, GNorm = 2.4894, lr_0 = 9.3051e-04\n",
            "Validation rmse = 0.718888\n",
            "  5%|▌         | 5/100 [00:08<02:38,  1.67s/it]Epoch 5\n",
            "Loss = 2.4950e-01, PNorm = 35.2187, GNorm = 1.8024, lr_0 = 9.2530e-04\n",
            "Loss = 2.3655e-01, PNorm = 35.2692, GNorm = 3.9612, lr_0 = 9.2058e-04\n",
            "Loss = 2.4942e-01, PNorm = 35.3156, GNorm = 5.6177, lr_0 = 9.1589e-04\n",
            "Loss = 2.0537e-01, PNorm = 35.3688, GNorm = 1.4925, lr_0 = 9.1123e-04\n",
            "Validation rmse = 0.648277\n",
            "  6%|▌         | 6/100 [00:09<02:34,  1.65s/it]Epoch 6\n",
            "Loss = 1.3714e-01, PNorm = 35.4146, GNorm = 3.2251, lr_0 = 9.0659e-04\n",
            "Loss = 2.1195e-01, PNorm = 35.4639, GNorm = 3.6948, lr_0 = 9.0197e-04\n",
            "Loss = 1.9355e-01, PNorm = 35.5033, GNorm = 1.1541, lr_0 = 8.9737e-04\n",
            "Loss = 1.9162e-01, PNorm = 35.5486, GNorm = 10.1018, lr_0 = 8.9280e-04\n",
            "Loss = 2.2293e-01, PNorm = 35.5842, GNorm = 4.7576, lr_0 = 8.8825e-04\n",
            "Validation rmse = 0.674531\n",
            "  7%|▋         | 7/100 [00:11<02:29,  1.61s/it]Epoch 7\n",
            "Loss = 1.7495e-01, PNorm = 35.6313, GNorm = 2.0327, lr_0 = 8.8327e-04\n",
            "Loss = 1.9996e-01, PNorm = 35.6748, GNorm = 2.1573, lr_0 = 8.7877e-04\n",
            "Loss = 1.9141e-01, PNorm = 35.7028, GNorm = 0.7023, lr_0 = 8.7430e-04\n",
            "Loss = 2.0092e-01, PNorm = 35.7369, GNorm = 10.6394, lr_0 = 8.6984e-04\n",
            "Loss = 1.7385e-01, PNorm = 35.7704, GNorm = 1.8629, lr_0 = 8.6541e-04\n",
            "Validation rmse = 0.693892\n",
            "  8%|▊         | 8/100 [00:13<02:25,  1.58s/it]Epoch 8\n",
            "Loss = 1.8531e-01, PNorm = 35.8140, GNorm = 2.6277, lr_0 = 8.6100e-04\n",
            "Loss = 2.1669e-01, PNorm = 35.8494, GNorm = 4.5853, lr_0 = 8.5662e-04\n",
            "Loss = 1.6011e-01, PNorm = 35.8858, GNorm = 1.0854, lr_0 = 8.5225e-04\n",
            "Loss = 2.2639e-01, PNorm = 35.9246, GNorm = 1.9447, lr_0 = 8.4791e-04\n",
            "Validation rmse = 0.677490\n",
            "  9%|▉         | 9/100 [00:14<02:22,  1.56s/it]Epoch 9\n",
            "Loss = 2.2561e-01, PNorm = 35.9628, GNorm = 0.8121, lr_0 = 8.4359e-04\n",
            "Loss = 2.2921e-01, PNorm = 36.0154, GNorm = 4.2612, lr_0 = 8.3929e-04\n",
            "Loss = 1.6611e-01, PNorm = 36.0597, GNorm = 3.9454, lr_0 = 8.3502e-04\n",
            "Loss = 1.6086e-01, PNorm = 36.0956, GNorm = 2.0758, lr_0 = 8.3076e-04\n",
            "Loss = 1.8580e-01, PNorm = 36.1313, GNorm = 6.0514, lr_0 = 8.2653e-04\n",
            "Validation rmse = 0.632533\n",
            " 10%|█         | 10/100 [00:16<02:21,  1.58s/it]Epoch 10\n",
            "Loss = 1.6023e-01, PNorm = 36.1694, GNorm = 5.5384, lr_0 = 8.2190e-04\n",
            "Loss = 1.9095e-01, PNorm = 36.1907, GNorm = 4.8808, lr_0 = 8.1771e-04\n",
            "Loss = 1.7852e-01, PNorm = 36.2292, GNorm = 3.2770, lr_0 = 8.1354e-04\n",
            "Loss = 1.6877e-01, PNorm = 36.2618, GNorm = 3.3561, lr_0 = 8.0940e-04\n",
            "Loss = 1.6222e-01, PNorm = 36.2960, GNorm = 2.7651, lr_0 = 8.0528e-04\n",
            "Validation rmse = 0.641565\n",
            " 11%|█         | 11/100 [00:17<02:20,  1.58s/it]Epoch 11\n",
            "Loss = 1.5260e-01, PNorm = 36.3260, GNorm = 3.2554, lr_0 = 8.0117e-04\n",
            "Loss = 1.3933e-01, PNorm = 36.3580, GNorm = 1.1486, lr_0 = 7.9709e-04\n",
            "Loss = 1.4968e-01, PNorm = 36.3838, GNorm = 1.0274, lr_0 = 7.9303e-04\n",
            "Loss = 1.5150e-01, PNorm = 36.4113, GNorm = 2.0116, lr_0 = 7.8899e-04\n",
            "Validation rmse = 0.639782\n",
            " 12%|█▏        | 12/100 [00:19<02:27,  1.68s/it]Epoch 12\n",
            "Loss = 1.3010e-01, PNorm = 36.4473, GNorm = 1.6366, lr_0 = 7.8457e-04\n",
            "Loss = 1.4275e-01, PNorm = 36.4805, GNorm = 3.0558, lr_0 = 7.8057e-04\n",
            "Loss = 1.3399e-01, PNorm = 36.5113, GNorm = 5.5050, lr_0 = 7.7660e-04\n",
            "Loss = 1.4898e-01, PNorm = 36.5447, GNorm = 0.9087, lr_0 = 7.7264e-04\n",
            "Loss = 1.4609e-01, PNorm = 36.5846, GNorm = 3.2215, lr_0 = 7.6870e-04\n",
            "Validation rmse = 0.641792\n",
            " 13%|█▎        | 13/100 [00:21<02:22,  1.63s/it]Epoch 13\n",
            "Loss = 1.2585e-01, PNorm = 36.6168, GNorm = 1.3028, lr_0 = 7.6479e-04\n",
            "Loss = 1.3303e-01, PNorm = 36.6409, GNorm = 3.4015, lr_0 = 7.6089e-04\n",
            "Loss = 1.3301e-01, PNorm = 36.6628, GNorm = 4.6302, lr_0 = 7.5701e-04\n",
            "Loss = 1.4049e-01, PNorm = 36.6962, GNorm = 1.3207, lr_0 = 7.5316e-04\n",
            "Loss = 1.2357e-01, PNorm = 36.7264, GNorm = 1.3370, lr_0 = 7.4932e-04\n",
            "Validation rmse = 0.638145\n",
            " 14%|█▍        | 14/100 [00:22<02:18,  1.61s/it]Epoch 14\n",
            "Loss = 1.0710e-01, PNorm = 36.7681, GNorm = 2.4501, lr_0 = 7.4512e-04\n",
            "Loss = 1.2948e-01, PNorm = 36.7990, GNorm = 4.2776, lr_0 = 7.4133e-04\n",
            "Loss = 1.2468e-01, PNorm = 36.8306, GNorm = 4.2477, lr_0 = 7.3755e-04\n",
            "Loss = 1.1431e-01, PNorm = 36.8602, GNorm = 2.2721, lr_0 = 7.3379e-04\n",
            "Validation rmse = 0.652720\n",
            " 15%|█▌        | 15/100 [00:24<02:15,  1.59s/it]Epoch 15\n",
            "Loss = 1.3142e-01, PNorm = 36.8870, GNorm = 3.4034, lr_0 = 7.3005e-04\n",
            "Loss = 1.4553e-01, PNorm = 36.9148, GNorm = 0.7109, lr_0 = 7.2633e-04\n",
            "Loss = 1.0540e-01, PNorm = 36.9461, GNorm = 4.2190, lr_0 = 7.2263e-04\n",
            "Loss = 1.1249e-01, PNorm = 36.9854, GNorm = 2.9839, lr_0 = 7.1895e-04\n",
            "Loss = 1.3432e-01, PNorm = 37.0180, GNorm = 4.2709, lr_0 = 7.1529e-04\n",
            "Validation rmse = 0.651094\n",
            " 16%|█▌        | 16/100 [00:25<02:12,  1.57s/it]Epoch 16\n",
            "Loss = 1.2922e-01, PNorm = 37.0541, GNorm = 0.7770, lr_0 = 7.1128e-04\n",
            "Loss = 1.0316e-01, PNorm = 37.0817, GNorm = 0.9987, lr_0 = 7.0766e-04\n",
            "Loss = 9.6184e-02, PNorm = 37.1083, GNorm = 1.2527, lr_0 = 7.0405e-04\n",
            "Loss = 1.0852e-01, PNorm = 37.1352, GNorm = 2.0573, lr_0 = 7.0046e-04\n",
            "Loss = 1.0545e-01, PNorm = 37.1660, GNorm = 0.8192, lr_0 = 6.9690e-04\n",
            "Validation rmse = 0.584284\n",
            " 17%|█▋        | 17/100 [00:27<02:11,  1.59s/it]Epoch 17\n",
            "Loss = 9.7370e-02, PNorm = 37.1954, GNorm = 1.0222, lr_0 = 6.9335e-04\n",
            "Loss = 1.0495e-01, PNorm = 37.2168, GNorm = 1.2606, lr_0 = 6.8981e-04\n",
            "Loss = 1.0239e-01, PNorm = 37.2483, GNorm = 1.8042, lr_0 = 6.8630e-04\n",
            "Loss = 1.0076e-01, PNorm = 37.2795, GNorm = 3.0271, lr_0 = 6.8280e-04\n",
            "Validation rmse = 0.573661\n",
            " 18%|█▊        | 18/100 [00:29<02:10,  1.59s/it]Epoch 18\n",
            "Loss = 8.9170e-02, PNorm = 37.3102, GNorm = 2.2404, lr_0 = 6.7932e-04\n",
            "Loss = 1.0032e-01, PNorm = 37.3426, GNorm = 1.0518, lr_0 = 6.7586e-04\n",
            "Loss = 9.0820e-02, PNorm = 37.3708, GNorm = 0.5050, lr_0 = 6.7242e-04\n",
            "Loss = 9.9044e-02, PNorm = 37.3890, GNorm = 3.8024, lr_0 = 6.6899e-04\n",
            "Loss = 1.1627e-01, PNorm = 37.4079, GNorm = 4.2001, lr_0 = 6.6558e-04\n",
            "Validation rmse = 0.598201\n",
            " 19%|█▉        | 19/100 [00:30<02:08,  1.58s/it]Epoch 19\n",
            "Loss = 8.7000e-02, PNorm = 37.4348, GNorm = 1.3597, lr_0 = 6.6186e-04\n",
            "Loss = 9.0096e-02, PNorm = 37.4636, GNorm = 2.1594, lr_0 = 6.5848e-04\n",
            "Loss = 9.9731e-02, PNorm = 37.4895, GNorm = 1.0889, lr_0 = 6.5513e-04\n",
            "Loss = 9.8565e-02, PNorm = 37.5248, GNorm = 0.7449, lr_0 = 6.5179e-04\n",
            "Loss = 1.0837e-01, PNorm = 37.5458, GNorm = 6.0264, lr_0 = 6.4847e-04\n",
            "Validation rmse = 0.551893\n",
            " 20%|██        | 20/100 [00:32<02:06,  1.58s/it]Epoch 20\n",
            "Loss = 9.4897e-02, PNorm = 37.5610, GNorm = 2.3087, lr_0 = 6.4517e-04\n",
            "Loss = 1.0565e-01, PNorm = 37.5890, GNorm = 3.6252, lr_0 = 6.4188e-04\n",
            "Loss = 8.2149e-02, PNorm = 37.6239, GNorm = 1.3685, lr_0 = 6.3861e-04\n",
            "Loss = 8.5312e-02, PNorm = 37.6510, GNorm = 3.1875, lr_0 = 6.3536e-04\n",
            "Validation rmse = 0.549094\n",
            " 21%|██        | 21/100 [00:33<02:04,  1.58s/it]Epoch 21\n",
            "Loss = 1.0615e-01, PNorm = 37.6694, GNorm = 4.5170, lr_0 = 6.3180e-04\n",
            "Loss = 9.0650e-02, PNorm = 37.6866, GNorm = 4.8213, lr_0 = 6.2858e-04\n",
            "Loss = 9.5484e-02, PNorm = 37.7102, GNorm = 4.3333, lr_0 = 6.2537e-04\n",
            "Loss = 8.9801e-02, PNorm = 37.7360, GNorm = 1.7116, lr_0 = 6.2219e-04\n",
            "Loss = 9.8367e-02, PNorm = 37.7575, GNorm = 2.6724, lr_0 = 6.1902e-04\n",
            "Validation rmse = 0.572400\n",
            " 22%|██▏       | 22/100 [00:35<02:09,  1.66s/it]Epoch 22\n",
            "Loss = 7.9537e-02, PNorm = 37.7836, GNorm = 0.8899, lr_0 = 6.1586e-04\n",
            "Loss = 7.7567e-02, PNorm = 37.8068, GNorm = 3.3833, lr_0 = 6.1273e-04\n",
            "Loss = 9.2466e-02, PNorm = 37.8274, GNorm = 1.5731, lr_0 = 6.0961e-04\n",
            "Loss = 8.7305e-02, PNorm = 37.8531, GNorm = 2.4684, lr_0 = 6.0650e-04\n",
            "Loss = 8.1682e-02, PNorm = 37.8729, GNorm = 1.1833, lr_0 = 6.0341e-04\n",
            "Loss = 1.0806e-01, PNorm = 37.8741, GNorm = 1.7163, lr_0 = 6.0310e-04\n",
            "Validation rmse = 0.562550\n",
            " 23%|██▎       | 23/100 [00:37<02:05,  1.62s/it]Epoch 23\n",
            "Loss = 7.7396e-02, PNorm = 37.8889, GNorm = 1.7013, lr_0 = 6.0003e-04\n",
            "Loss = 7.5948e-02, PNorm = 37.9148, GNorm = 2.0349, lr_0 = 5.9697e-04\n",
            "Loss = 9.3471e-02, PNorm = 37.9360, GNorm = 4.1632, lr_0 = 5.9393e-04\n",
            "Loss = 8.9237e-02, PNorm = 37.9600, GNorm = 0.9648, lr_0 = 5.9090e-04\n",
            "Validation rmse = 0.600434\n",
            " 24%|██▍       | 24/100 [00:38<02:00,  1.59s/it]Epoch 24\n",
            "Loss = 8.6727e-02, PNorm = 37.9779, GNorm = 2.8976, lr_0 = 5.8789e-04\n",
            "Loss = 6.8037e-02, PNorm = 37.9993, GNorm = 1.9777, lr_0 = 5.8490e-04\n",
            "Loss = 7.3428e-02, PNorm = 38.0223, GNorm = 2.4494, lr_0 = 5.8192e-04\n",
            "Loss = 7.7192e-02, PNorm = 38.0420, GNorm = 1.7723, lr_0 = 5.7895e-04\n",
            "Loss = 8.9287e-02, PNorm = 38.0627, GNorm = 4.1617, lr_0 = 5.7600e-04\n",
            "Validation rmse = 0.534507\n",
            " 25%|██▌       | 25/100 [00:40<01:58,  1.58s/it]Epoch 25\n",
            "Loss = 1.2188e-01, PNorm = 38.0820, GNorm = 8.2550, lr_0 = 5.7307e-04\n",
            "Loss = 8.9413e-02, PNorm = 38.0988, GNorm = 5.2243, lr_0 = 5.7015e-04\n",
            "Loss = 8.6725e-02, PNorm = 38.1250, GNorm = 1.4135, lr_0 = 5.6725e-04\n",
            "Loss = 8.1894e-02, PNorm = 38.1483, GNorm = 1.1976, lr_0 = 5.6436e-04\n",
            "Loss = 7.8198e-02, PNorm = 38.1729, GNorm = 1.8518, lr_0 = 5.6148e-04\n",
            "Loss = 9.5788e-02, PNorm = 38.1752, GNorm = 3.5264, lr_0 = 5.6119e-04\n",
            "Validation rmse = 0.558867\n",
            " 26%|██▌       | 26/100 [00:41<01:55,  1.55s/it]Epoch 26\n",
            "Loss = 6.2447e-02, PNorm = 38.1916, GNorm = 4.1001, lr_0 = 5.5833e-04\n",
            "Loss = 6.6845e-02, PNorm = 38.2131, GNorm = 2.9653, lr_0 = 5.5549e-04\n",
            "Loss = 8.4498e-02, PNorm = 38.2353, GNorm = 4.0002, lr_0 = 5.5266e-04\n",
            "Loss = 9.0477e-02, PNorm = 38.2554, GNorm = 3.9882, lr_0 = 5.4984e-04\n",
            "Validation rmse = 0.533061\n",
            " 27%|██▋       | 27/100 [00:43<01:52,  1.55s/it]Epoch 27\n",
            "Loss = 6.5839e-02, PNorm = 38.2774, GNorm = 1.5273, lr_0 = 5.4704e-04\n",
            "Loss = 6.5420e-02, PNorm = 38.3000, GNorm = 1.8344, lr_0 = 5.4426e-04\n",
            "Loss = 7.4873e-02, PNorm = 38.3161, GNorm = 5.0159, lr_0 = 5.4148e-04\n",
            "Loss = 7.0647e-02, PNorm = 38.3343, GNorm = 2.2133, lr_0 = 5.3872e-04\n",
            "Loss = 7.8509e-02, PNorm = 38.3488, GNorm = 3.9504, lr_0 = 5.3598e-04\n",
            "Validation rmse = 0.523678\n",
            " 28%|██▊       | 28/100 [00:44<01:52,  1.56s/it]Epoch 28\n",
            "Loss = 6.2798e-02, PNorm = 38.3717, GNorm = 2.9963, lr_0 = 5.3298e-04\n",
            "Loss = 7.3480e-02, PNorm = 38.3912, GNorm = 0.9216, lr_0 = 5.3026e-04\n",
            "Loss = 6.3386e-02, PNorm = 38.4100, GNorm = 1.7438, lr_0 = 5.2756e-04\n",
            "Loss = 6.4288e-02, PNorm = 38.4252, GNorm = 2.7020, lr_0 = 5.2487e-04\n",
            "Loss = 6.3227e-02, PNorm = 38.4423, GNorm = 4.4775, lr_0 = 5.2220e-04\n",
            "Validation rmse = 0.542343\n",
            " 29%|██▉       | 29/100 [00:46<01:50,  1.55s/it]Epoch 29\n",
            "Loss = 6.8884e-02, PNorm = 38.4567, GNorm = 1.1071, lr_0 = 5.1954e-04\n",
            "Loss = 6.3383e-02, PNorm = 38.4713, GNorm = 1.1388, lr_0 = 5.1689e-04\n",
            "Loss = 6.0239e-02, PNorm = 38.4893, GNorm = 1.1054, lr_0 = 5.1426e-04\n",
            "Loss = 6.0185e-02, PNorm = 38.5061, GNorm = 2.5906, lr_0 = 5.1164e-04\n",
            "Validation rmse = 0.526712\n",
            " 30%|███       | 30/100 [00:47<01:47,  1.54s/it]Epoch 30\n",
            "Loss = 5.3149e-02, PNorm = 38.5238, GNorm = 0.4462, lr_0 = 5.0877e-04\n",
            "Loss = 6.0451e-02, PNorm = 38.5395, GNorm = 1.0168, lr_0 = 5.0618e-04\n",
            "Loss = 5.3537e-02, PNorm = 38.5561, GNorm = 0.7054, lr_0 = 5.0360e-04\n",
            "Loss = 7.7734e-02, PNorm = 38.5791, GNorm = 3.5524, lr_0 = 5.0103e-04\n",
            "Loss = 5.8861e-02, PNorm = 38.5957, GNorm = 2.0752, lr_0 = 4.9848e-04\n",
            "Validation rmse = 0.538137\n",
            " 31%|███       | 31/100 [00:49<01:46,  1.54s/it]Epoch 31\n",
            "Loss = 5.9006e-02, PNorm = 38.6131, GNorm = 3.8395, lr_0 = 4.9594e-04\n",
            "Loss = 6.0680e-02, PNorm = 38.6244, GNorm = 0.6130, lr_0 = 4.9341e-04\n",
            "Loss = 5.9717e-02, PNorm = 38.6412, GNorm = 1.8868, lr_0 = 4.9090e-04\n",
            "Loss = 6.1413e-02, PNorm = 38.6629, GNorm = 2.5499, lr_0 = 4.8840e-04\n",
            "Validation rmse = 0.554944\n",
            " 32%|███▏      | 32/100 [00:51<01:51,  1.63s/it]Epoch 32\n",
            "Loss = 4.7773e-02, PNorm = 38.6781, GNorm = 1.5060, lr_0 = 4.8566e-04\n",
            "Loss = 5.0257e-02, PNorm = 38.6935, GNorm = 3.5340, lr_0 = 4.8319e-04\n",
            "Loss = 5.6264e-02, PNorm = 38.7112, GNorm = 1.6448, lr_0 = 4.8073e-04\n",
            "Loss = 6.4118e-02, PNorm = 38.7348, GNorm = 1.2299, lr_0 = 4.7828e-04\n",
            "Loss = 7.4606e-02, PNorm = 38.7514, GNorm = 3.5368, lr_0 = 4.7584e-04\n",
            "Validation rmse = 0.503026\n",
            " 33%|███▎      | 33/100 [00:52<01:48,  1.63s/it]Epoch 33\n",
            "Loss = 5.2031e-02, PNorm = 38.7589, GNorm = 0.6620, lr_0 = 4.7342e-04\n",
            "Loss = 5.3618e-02, PNorm = 38.7724, GNorm = 2.0056, lr_0 = 4.7101e-04\n",
            "Loss = 6.4578e-02, PNorm = 38.7915, GNorm = 1.0561, lr_0 = 4.6861e-04\n",
            "Loss = 5.2207e-02, PNorm = 38.8039, GNorm = 1.2069, lr_0 = 4.6622e-04\n",
            "Loss = 5.4907e-02, PNorm = 38.8209, GNorm = 1.1257, lr_0 = 4.6384e-04\n",
            "Validation rmse = 0.521769\n",
            " 34%|███▍      | 34/100 [00:54<01:46,  1.61s/it]Epoch 34\n",
            "Loss = 4.8711e-02, PNorm = 38.8351, GNorm = 1.0357, lr_0 = 4.6148e-04\n",
            "Loss = 5.2710e-02, PNorm = 38.8522, GNorm = 1.6062, lr_0 = 4.5913e-04\n",
            "Loss = 5.6128e-02, PNorm = 38.8657, GNorm = 2.5722, lr_0 = 4.5679e-04\n",
            "Loss = 5.9123e-02, PNorm = 38.8824, GNorm = 0.8515, lr_0 = 4.5446e-04\n",
            "Validation rmse = 0.507337\n",
            " 35%|███▌      | 35/100 [00:55<01:42,  1.58s/it]Epoch 35\n",
            "Loss = 4.7690e-02, PNorm = 38.8975, GNorm = 2.2326, lr_0 = 4.5192e-04\n",
            "Loss = 4.4427e-02, PNorm = 38.9091, GNorm = 0.8766, lr_0 = 4.4961e-04\n",
            "Loss = 5.2984e-02, PNorm = 38.9232, GNorm = 4.2043, lr_0 = 4.4732e-04\n",
            "Loss = 6.6735e-02, PNorm = 38.9381, GNorm = 1.3104, lr_0 = 4.4504e-04\n",
            "Loss = 6.1657e-02, PNorm = 38.9511, GNorm = 3.4376, lr_0 = 4.4278e-04\n",
            "Validation rmse = 0.507240\n",
            " 36%|███▌      | 36/100 [00:57<01:40,  1.56s/it]Epoch 36\n",
            "Loss = 4.9196e-02, PNorm = 38.9630, GNorm = 0.9283, lr_0 = 4.4052e-04\n",
            "Loss = 5.2382e-02, PNorm = 38.9746, GNorm = 0.6435, lr_0 = 4.3828e-04\n",
            "Loss = 4.6183e-02, PNorm = 38.9888, GNorm = 0.8039, lr_0 = 4.3604e-04\n",
            "Loss = 4.7152e-02, PNorm = 39.0024, GNorm = 0.9245, lr_0 = 4.3382e-04\n",
            "Loss = 4.8893e-02, PNorm = 39.0174, GNorm = 1.9033, lr_0 = 4.3161e-04\n",
            "Validation rmse = 0.535208\n",
            " 37%|███▋      | 37/100 [00:58<01:37,  1.55s/it]Epoch 37\n",
            "Loss = 4.6568e-02, PNorm = 39.0333, GNorm = 2.3954, lr_0 = 4.2919e-04\n",
            "Loss = 4.5432e-02, PNorm = 39.0475, GNorm = 0.9104, lr_0 = 4.2701e-04\n",
            "Loss = 6.1114e-02, PNorm = 39.0596, GNorm = 2.4128, lr_0 = 4.2483e-04\n",
            "Loss = 5.3998e-02, PNorm = 39.0731, GNorm = 4.3031, lr_0 = 4.2267e-04\n",
            "Validation rmse = 0.521662\n",
            " 38%|███▊      | 38/100 [01:00<01:36,  1.55s/it]Epoch 38\n",
            "Loss = 7.0378e-02, PNorm = 39.0853, GNorm = 1.4875, lr_0 = 4.2051e-04\n",
            "Loss = 4.9193e-02, PNorm = 39.1007, GNorm = 1.0161, lr_0 = 4.1837e-04\n",
            "Loss = 4.1175e-02, PNorm = 39.1194, GNorm = 1.1678, lr_0 = 4.1624e-04\n",
            "Loss = 4.3965e-02, PNorm = 39.1313, GNorm = 1.6509, lr_0 = 4.1412e-04\n",
            "Loss = 4.3552e-02, PNorm = 39.1401, GNorm = 0.5651, lr_0 = 4.1201e-04\n",
            "Validation rmse = 0.513674\n",
            " 39%|███▉      | 39/100 [01:02<01:34,  1.55s/it]Epoch 39\n",
            "Loss = 4.4773e-02, PNorm = 39.1520, GNorm = 0.6901, lr_0 = 4.0970e-04\n",
            "Loss = 4.1578e-02, PNorm = 39.1636, GNorm = 1.2164, lr_0 = 4.0761e-04\n",
            "Loss = 4.5714e-02, PNorm = 39.1748, GNorm = 1.2978, lr_0 = 4.0554e-04\n",
            "Loss = 4.2875e-02, PNorm = 39.1859, GNorm = 1.4804, lr_0 = 4.0347e-04\n",
            "Loss = 4.7858e-02, PNorm = 39.2014, GNorm = 0.7094, lr_0 = 4.0142e-04\n",
            "Validation rmse = 0.517294\n",
            " 40%|████      | 40/100 [01:03<01:32,  1.54s/it]Epoch 40\n",
            "Loss = 4.3005e-02, PNorm = 39.2141, GNorm = 1.6354, lr_0 = 3.9937e-04\n",
            "Loss = 3.7062e-02, PNorm = 39.2263, GNorm = 1.7791, lr_0 = 3.9734e-04\n",
            "Loss = 3.9518e-02, PNorm = 39.2378, GNorm = 1.3201, lr_0 = 3.9531e-04\n",
            "Loss = 4.4347e-02, PNorm = 39.2508, GNorm = 0.6603, lr_0 = 3.9330e-04\n",
            "Validation rmse = 0.509832\n",
            " 41%|████      | 41/100 [01:05<01:31,  1.55s/it]Epoch 41\n",
            "Loss = 3.4779e-02, PNorm = 39.2598, GNorm = 2.3698, lr_0 = 3.9109e-04\n",
            "Loss = 4.0207e-02, PNorm = 39.2730, GNorm = 1.6239, lr_0 = 3.8910e-04\n",
            "Loss = 3.6819e-02, PNorm = 39.2858, GNorm = 1.2227, lr_0 = 3.8712e-04\n",
            "Loss = 4.7916e-02, PNorm = 39.2976, GNorm = 3.7546, lr_0 = 3.8515e-04\n",
            "Loss = 4.9336e-02, PNorm = 39.3049, GNorm = 3.6710, lr_0 = 3.8318e-04\n",
            "Validation rmse = 0.505502\n",
            " 42%|████▏     | 42/100 [01:06<01:29,  1.54s/it]Epoch 42\n",
            "Loss = 3.8465e-02, PNorm = 39.3152, GNorm = 0.5930, lr_0 = 3.8123e-04\n",
            "Loss = 4.8154e-02, PNorm = 39.3283, GNorm = 0.7261, lr_0 = 3.7929e-04\n",
            "Loss = 4.5306e-02, PNorm = 39.3398, GNorm = 0.8554, lr_0 = 3.7736e-04\n",
            "Loss = 4.3154e-02, PNorm = 39.3501, GNorm = 1.9010, lr_0 = 3.7543e-04\n",
            "Loss = 3.8983e-02, PNorm = 39.3629, GNorm = 1.4959, lr_0 = 3.7352e-04\n",
            "Validation rmse = 0.539771\n",
            " 43%|████▎     | 43/100 [01:08<01:33,  1.64s/it]Epoch 43\n",
            "Loss = 4.7150e-02, PNorm = 39.3750, GNorm = 0.8397, lr_0 = 3.7162e-04\n",
            "Loss = 4.7105e-02, PNorm = 39.3826, GNorm = 0.8697, lr_0 = 3.6973e-04\n",
            "Loss = 4.5518e-02, PNorm = 39.3916, GNorm = 0.4726, lr_0 = 3.6784e-04\n",
            "Loss = 4.6946e-02, PNorm = 39.4021, GNorm = 0.9999, lr_0 = 3.6597e-04\n",
            "Validation rmse = 0.504347\n",
            " 44%|████▍     | 44/100 [01:10<01:30,  1.61s/it]Epoch 44\n",
            "Loss = 3.7449e-02, PNorm = 39.4152, GNorm = 0.9583, lr_0 = 3.6392e-04\n",
            "Loss = 3.5851e-02, PNorm = 39.4282, GNorm = 2.7791, lr_0 = 3.6206e-04\n",
            "Loss = 5.0991e-02, PNorm = 39.4395, GNorm = 2.1720, lr_0 = 3.6022e-04\n",
            "Loss = 4.4912e-02, PNorm = 39.4475, GNorm = 0.9659, lr_0 = 3.5838e-04\n",
            "Loss = 4.3145e-02, PNorm = 39.4607, GNorm = 1.8776, lr_0 = 3.5656e-04\n",
            "Validation rmse = 0.538737\n",
            " 45%|████▌     | 45/100 [01:11<01:27,  1.59s/it]Epoch 45\n",
            "Loss = 5.1080e-02, PNorm = 39.4730, GNorm = 2.0294, lr_0 = 3.5474e-04\n",
            "Loss = 3.9879e-02, PNorm = 39.4847, GNorm = 3.8199, lr_0 = 3.5293e-04\n",
            "Loss = 3.5758e-02, PNorm = 39.4943, GNorm = 0.8663, lr_0 = 3.5114e-04\n",
            "Loss = 4.0026e-02, PNorm = 39.5033, GNorm = 0.6192, lr_0 = 3.4935e-04\n",
            "Loss = 3.7385e-02, PNorm = 39.5112, GNorm = 0.7872, lr_0 = 3.4757e-04\n",
            "Validation rmse = 0.517176\n",
            " 46%|████▌     | 46/100 [01:13<01:24,  1.57s/it]Epoch 46\n",
            "Loss = 3.8951e-02, PNorm = 39.5225, GNorm = 2.4850, lr_0 = 3.4562e-04\n",
            "Loss = 3.9640e-02, PNorm = 39.5354, GNorm = 0.4989, lr_0 = 3.4386e-04\n",
            "Loss = 3.6367e-02, PNorm = 39.5453, GNorm = 1.2490, lr_0 = 3.4211e-04\n",
            "Loss = 4.1460e-02, PNorm = 39.5558, GNorm = 1.6834, lr_0 = 3.4036e-04\n",
            "Validation rmse = 0.517395\n",
            " 47%|████▋     | 47/100 [01:14<01:22,  1.56s/it]Epoch 47\n",
            "Loss = 3.5704e-02, PNorm = 39.5655, GNorm = 2.1389, lr_0 = 3.3863e-04\n",
            "Loss = 3.3207e-02, PNorm = 39.5750, GNorm = 0.8821, lr_0 = 3.3690e-04\n",
            "Loss = 3.6486e-02, PNorm = 39.5844, GNorm = 1.5897, lr_0 = 3.3519e-04\n",
            "Loss = 4.0563e-02, PNorm = 39.5935, GNorm = 2.4563, lr_0 = 3.3348e-04\n",
            "Loss = 3.8450e-02, PNorm = 39.6028, GNorm = 1.3476, lr_0 = 3.3178e-04\n",
            "Validation rmse = 0.509025\n",
            " 48%|████▊     | 48/100 [01:16<01:20,  1.55s/it]Epoch 48\n",
            "Loss = 3.1046e-02, PNorm = 39.6127, GNorm = 1.0114, lr_0 = 3.2992e-04\n",
            "Loss = 3.3071e-02, PNorm = 39.6217, GNorm = 0.5119, lr_0 = 3.2824e-04\n",
            "Loss = 3.9143e-02, PNorm = 39.6297, GNorm = 0.5868, lr_0 = 3.2657e-04\n",
            "Loss = 4.2250e-02, PNorm = 39.6410, GNorm = 0.8616, lr_0 = 3.2491e-04\n",
            "Loss = 3.6590e-02, PNorm = 39.6538, GNorm = 1.2998, lr_0 = 3.2325e-04\n",
            "Validation rmse = 0.534475\n",
            " 49%|████▉     | 49/100 [01:17<01:18,  1.54s/it]Epoch 49\n",
            "Loss = 3.3171e-02, PNorm = 39.6645, GNorm = 2.4661, lr_0 = 3.2160e-04\n",
            "Loss = 3.5681e-02, PNorm = 39.6737, GNorm = 1.4189, lr_0 = 3.1996e-04\n",
            "Loss = 3.9612e-02, PNorm = 39.6804, GNorm = 1.1523, lr_0 = 3.1833e-04\n",
            "Loss = 3.2322e-02, PNorm = 39.6909, GNorm = 0.8919, lr_0 = 3.1671e-04\n",
            "Validation rmse = 0.519702\n",
            " 50%|█████     | 50/100 [01:19<01:17,  1.54s/it]Epoch 50\n",
            "Loss = 3.3607e-02, PNorm = 39.6996, GNorm = 1.9850, lr_0 = 3.1510e-04\n",
            "Loss = 3.5834e-02, PNorm = 39.7067, GNorm = 4.3162, lr_0 = 3.1349e-04\n",
            "Loss = 3.9019e-02, PNorm = 39.7133, GNorm = 1.1716, lr_0 = 3.1190e-04\n",
            "Loss = 3.5689e-02, PNorm = 39.7220, GNorm = 1.4786, lr_0 = 3.1031e-04\n",
            "Loss = 2.9486e-02, PNorm = 39.7296, GNorm = 2.2816, lr_0 = 3.0873e-04\n",
            "Validation rmse = 0.532864\n",
            " 51%|█████     | 51/100 [01:20<01:15,  1.54s/it]Epoch 51\n",
            "Loss = 3.7595e-02, PNorm = 39.7409, GNorm = 1.9672, lr_0 = 3.0700e-04\n",
            "Loss = 3.6435e-02, PNorm = 39.7516, GNorm = 1.0790, lr_0 = 3.0543e-04\n",
            "Loss = 3.6612e-02, PNorm = 39.7590, GNorm = 0.9311, lr_0 = 3.0388e-04\n",
            "Loss = 3.1888e-02, PNorm = 39.7684, GNorm = 2.0134, lr_0 = 3.0233e-04\n",
            "Loss = 3.7653e-02, PNorm = 39.7783, GNorm = 2.2986, lr_0 = 3.0079e-04\n",
            "Validation rmse = 0.515902\n",
            " 52%|█████▏    | 52/100 [01:22<01:13,  1.53s/it]Epoch 52\n",
            "Loss = 3.6647e-02, PNorm = 39.7866, GNorm = 1.6358, lr_0 = 2.9926e-04\n",
            "Loss = 3.9986e-02, PNorm = 39.7942, GNorm = 1.7675, lr_0 = 2.9773e-04\n",
            "Loss = 3.9382e-02, PNorm = 39.8027, GNorm = 2.1251, lr_0 = 2.9621e-04\n",
            "Loss = 3.1953e-02, PNorm = 39.8100, GNorm = 2.6204, lr_0 = 2.9471e-04\n",
            "Validation rmse = 0.510436\n",
            " 53%|█████▎    | 53/100 [01:23<01:11,  1.53s/it]Epoch 53\n",
            "Loss = 2.5297e-02, PNorm = 39.8162, GNorm = 0.6480, lr_0 = 2.9305e-04\n",
            "Loss = 3.3428e-02, PNorm = 39.8228, GNorm = 1.5732, lr_0 = 2.9156e-04\n",
            "Loss = 3.0157e-02, PNorm = 39.8313, GNorm = 1.1155, lr_0 = 2.9008e-04\n",
            "Loss = 3.5094e-02, PNorm = 39.8403, GNorm = 0.4991, lr_0 = 2.8860e-04\n",
            "Loss = 3.5978e-02, PNorm = 39.8477, GNorm = 1.2184, lr_0 = 2.8713e-04\n",
            "Validation rmse = 0.499801\n",
            " 54%|█████▍    | 54/100 [01:25<01:16,  1.66s/it]Epoch 54\n",
            "Loss = 2.9671e-02, PNorm = 39.8547, GNorm = 0.5872, lr_0 = 2.8566e-04\n",
            "Loss = 2.8930e-02, PNorm = 39.8613, GNorm = 0.5677, lr_0 = 2.8421e-04\n",
            "Loss = 3.0230e-02, PNorm = 39.8687, GNorm = 0.4622, lr_0 = 2.8276e-04\n",
            "Loss = 3.1877e-02, PNorm = 39.8752, GNorm = 1.8906, lr_0 = 2.8132e-04\n",
            "Loss = 3.1486e-02, PNorm = 39.8864, GNorm = 2.8711, lr_0 = 2.7989e-04\n",
            "Loss = 3.3846e-02, PNorm = 39.8874, GNorm = 2.2355, lr_0 = 2.7974e-04\n",
            "Validation rmse = 0.505282\n",
            " 55%|█████▌    | 55/100 [01:27<01:13,  1.63s/it]Epoch 55\n",
            "Loss = 3.6280e-02, PNorm = 39.8963, GNorm = 1.3337, lr_0 = 2.7832e-04\n",
            "Loss = 3.1493e-02, PNorm = 39.9034, GNorm = 1.2944, lr_0 = 2.7690e-04\n",
            "Loss = 2.6449e-02, PNorm = 39.9111, GNorm = 0.4530, lr_0 = 2.7549e-04\n",
            "Loss = 3.2797e-02, PNorm = 39.9187, GNorm = 1.2224, lr_0 = 2.7409e-04\n",
            "Validation rmse = 0.512677\n",
            " 56%|█████▌    | 56/100 [01:28<01:10,  1.60s/it]Epoch 56\n",
            "Loss = 3.2712e-02, PNorm = 39.9230, GNorm = 0.4789, lr_0 = 2.7269e-04\n",
            "Loss = 2.7162e-02, PNorm = 39.9311, GNorm = 1.6422, lr_0 = 2.7130e-04\n",
            "Loss = 3.3279e-02, PNorm = 39.9393, GNorm = 1.6690, lr_0 = 2.6992e-04\n",
            "Loss = 2.9954e-02, PNorm = 39.9457, GNorm = 1.0774, lr_0 = 2.6854e-04\n",
            "Loss = 2.8223e-02, PNorm = 39.9538, GNorm = 1.3423, lr_0 = 2.6718e-04\n",
            "Validation rmse = 0.517302\n",
            " 57%|█████▋    | 57/100 [01:30<01:07,  1.58s/it]Epoch 57\n",
            "Loss = 2.7566e-02, PNorm = 39.9632, GNorm = 0.7547, lr_0 = 2.6568e-04\n",
            "Loss = 3.1109e-02, PNorm = 39.9680, GNorm = 0.6027, lr_0 = 2.6433e-04\n",
            "Loss = 2.7317e-02, PNorm = 39.9759, GNorm = 2.1134, lr_0 = 2.6298e-04\n",
            "Loss = 3.1693e-02, PNorm = 39.9814, GNorm = 0.5669, lr_0 = 2.6164e-04\n",
            "Loss = 2.9156e-02, PNorm = 39.9911, GNorm = 0.7962, lr_0 = 2.6031e-04\n",
            "Validation rmse = 0.525341\n",
            " 58%|█████▊    | 58/100 [01:31<01:05,  1.57s/it]Epoch 58\n",
            "Loss = 3.0985e-02, PNorm = 40.0000, GNorm = 1.7457, lr_0 = 2.5898e-04\n",
            "Loss = 3.0385e-02, PNorm = 40.0084, GNorm = 2.1414, lr_0 = 2.5766e-04\n",
            "Loss = 3.1868e-02, PNorm = 40.0128, GNorm = 1.4610, lr_0 = 2.5635e-04\n",
            "Loss = 3.2729e-02, PNorm = 40.0174, GNorm = 0.8068, lr_0 = 2.5504e-04\n",
            "Validation rmse = 0.513012\n",
            " 59%|█████▉    | 59/100 [01:33<01:04,  1.56s/it]Epoch 59\n",
            "Loss = 3.2317e-02, PNorm = 40.0241, GNorm = 2.2170, lr_0 = 2.5374e-04\n",
            "Loss = 3.6813e-02, PNorm = 40.0328, GNorm = 3.0958, lr_0 = 2.5245e-04\n",
            "Loss = 3.5754e-02, PNorm = 40.0407, GNorm = 2.2598, lr_0 = 2.5116e-04\n",
            "Loss = 2.6633e-02, PNorm = 40.0483, GNorm = 1.0518, lr_0 = 2.4988e-04\n",
            "Loss = 3.0016e-02, PNorm = 40.0543, GNorm = 1.3207, lr_0 = 2.4861e-04\n",
            "Validation rmse = 0.505426\n",
            " 60%|██████    | 60/100 [01:35<01:02,  1.56s/it]Epoch 60\n",
            "Loss = 2.8240e-02, PNorm = 40.0605, GNorm = 0.6404, lr_0 = 2.4722e-04\n",
            "Loss = 2.6361e-02, PNorm = 40.0641, GNorm = 1.2482, lr_0 = 2.4596e-04\n",
            "Loss = 3.0722e-02, PNorm = 40.0696, GNorm = 1.4395, lr_0 = 2.4470e-04\n",
            "Loss = 3.0528e-02, PNorm = 40.0793, GNorm = 0.7239, lr_0 = 2.4346e-04\n",
            "Loss = 3.1503e-02, PNorm = 40.0880, GNorm = 1.2345, lr_0 = 2.4222e-04\n",
            "Validation rmse = 0.516076\n",
            " 61%|██████    | 61/100 [01:36<01:00,  1.56s/it]Epoch 61\n",
            "Loss = 2.4150e-02, PNorm = 40.0925, GNorm = 0.5704, lr_0 = 2.4098e-04\n",
            "Loss = 2.5859e-02, PNorm = 40.0968, GNorm = 0.7029, lr_0 = 2.3976e-04\n",
            "Loss = 2.6462e-02, PNorm = 40.1020, GNorm = 0.8406, lr_0 = 2.3853e-04\n",
            "Loss = 3.4015e-02, PNorm = 40.1106, GNorm = 2.3832, lr_0 = 2.3732e-04\n",
            "Validation rmse = 0.510882\n",
            " 62%|██████▏   | 62/100 [01:38<00:58,  1.55s/it]Epoch 62\n",
            "Loss = 3.0725e-02, PNorm = 40.1204, GNorm = 2.2243, lr_0 = 2.3599e-04\n",
            "Loss = 2.8737e-02, PNorm = 40.1264, GNorm = 1.5551, lr_0 = 2.3479e-04\n",
            "Loss = 3.8047e-02, PNorm = 40.1309, GNorm = 1.3655, lr_0 = 2.3359e-04\n",
            "Loss = 4.6253e-02, PNorm = 40.1373, GNorm = 2.3921, lr_0 = 2.3240e-04\n",
            "Loss = 3.1660e-02, PNorm = 40.1429, GNorm = 2.6359, lr_0 = 2.3122e-04\n",
            "Validation rmse = 0.525288\n",
            " 63%|██████▎   | 63/100 [01:39<00:57,  1.54s/it]Epoch 63\n",
            "Loss = 2.6370e-02, PNorm = 40.1493, GNorm = 1.2608, lr_0 = 2.3004e-04\n",
            "Loss = 2.8170e-02, PNorm = 40.1536, GNorm = 1.1959, lr_0 = 2.2887e-04\n",
            "Loss = 2.9010e-02, PNorm = 40.1596, GNorm = 1.0513, lr_0 = 2.2770e-04\n",
            "Loss = 2.8959e-02, PNorm = 40.1651, GNorm = 0.5884, lr_0 = 2.2654e-04\n",
            "Validation rmse = 0.517062\n",
            " 64%|██████▍   | 64/100 [01:41<00:55,  1.54s/it]Epoch 64\n",
            "Loss = 3.4854e-02, PNorm = 40.1716, GNorm = 1.2749, lr_0 = 2.2527e-04\n",
            "Loss = 2.2979e-02, PNorm = 40.1772, GNorm = 1.9313, lr_0 = 2.2412e-04\n",
            "Loss = 2.3100e-02, PNorm = 40.1823, GNorm = 0.5660, lr_0 = 2.2298e-04\n",
            "Loss = 2.6130e-02, PNorm = 40.1883, GNorm = 0.5871, lr_0 = 2.2185e-04\n",
            "Loss = 2.9992e-02, PNorm = 40.1932, GNorm = 0.5255, lr_0 = 2.2072e-04\n",
            "Validation rmse = 0.511487\n",
            " 65%|██████▌   | 65/100 [01:43<00:57,  1.64s/it]Epoch 65\n",
            "Loss = 2.7201e-02, PNorm = 40.1992, GNorm = 1.5401, lr_0 = 2.1959e-04\n",
            "Loss = 2.4228e-02, PNorm = 40.2052, GNorm = 2.4577, lr_0 = 2.1847e-04\n",
            "Loss = 2.8351e-02, PNorm = 40.2073, GNorm = 2.4583, lr_0 = 2.1736e-04\n",
            "Loss = 2.9068e-02, PNorm = 40.2122, GNorm = 0.6175, lr_0 = 2.1625e-04\n",
            "Loss = 3.0958e-02, PNorm = 40.2172, GNorm = 1.0535, lr_0 = 2.1515e-04\n",
            "Validation rmse = 0.514409\n",
            " 66%|██████▌   | 66/100 [01:44<00:54,  1.60s/it]Epoch 66\n",
            "Loss = 3.0285e-02, PNorm = 40.2231, GNorm = 1.1366, lr_0 = 2.1394e-04\n",
            "Loss = 2.4692e-02, PNorm = 40.2288, GNorm = 1.4000, lr_0 = 2.1285e-04\n",
            "Loss = 2.5483e-02, PNorm = 40.2352, GNorm = 0.7090, lr_0 = 2.1177e-04\n",
            "Loss = 2.2846e-02, PNorm = 40.2409, GNorm = 0.5992, lr_0 = 2.1069e-04\n",
            "Validation rmse = 0.508363\n",
            " 67%|██████▋   | 67/100 [01:46<00:52,  1.58s/it]Epoch 67\n",
            "Loss = 2.6985e-02, PNorm = 40.2457, GNorm = 1.3838, lr_0 = 2.0962e-04\n",
            "Loss = 2.5921e-02, PNorm = 40.2504, GNorm = 0.7209, lr_0 = 2.0855e-04\n",
            "Loss = 2.6917e-02, PNorm = 40.2546, GNorm = 0.4858, lr_0 = 2.0749e-04\n",
            "Loss = 2.7224e-02, PNorm = 40.2595, GNorm = 1.5727, lr_0 = 2.0643e-04\n",
            "Loss = 2.2875e-02, PNorm = 40.2673, GNorm = 1.6234, lr_0 = 2.0538e-04\n",
            "Validation rmse = 0.503166\n",
            " 68%|██████▊   | 68/100 [01:47<00:50,  1.56s/it]Epoch 68\n",
            "Loss = 2.8082e-02, PNorm = 40.2726, GNorm = 0.4412, lr_0 = 2.0433e-04\n",
            "Loss = 2.1204e-02, PNorm = 40.2782, GNorm = 1.2621, lr_0 = 2.0329e-04\n",
            "Loss = 2.4904e-02, PNorm = 40.2836, GNorm = 0.6507, lr_0 = 2.0226e-04\n",
            "Loss = 2.2438e-02, PNorm = 40.2880, GNorm = 0.9871, lr_0 = 2.0123e-04\n",
            "Loss = 2.6001e-02, PNorm = 40.2921, GNorm = 1.2200, lr_0 = 2.0020e-04\n",
            "Validation rmse = 0.509388\n",
            " 69%|██████▉   | 69/100 [01:49<00:48,  1.55s/it]Epoch 69\n",
            "Loss = 3.2918e-02, PNorm = 40.2975, GNorm = 2.8825, lr_0 = 1.9908e-04\n",
            "Loss = 2.8549e-02, PNorm = 40.3022, GNorm = 1.9602, lr_0 = 1.9806e-04\n",
            "Loss = 2.6021e-02, PNorm = 40.3061, GNorm = 0.5700, lr_0 = 1.9705e-04\n",
            "Loss = 2.3575e-02, PNorm = 40.3109, GNorm = 0.7825, lr_0 = 1.9605e-04\n",
            "Validation rmse = 0.520341\n",
            " 70%|███████   | 70/100 [01:50<00:46,  1.54s/it]Epoch 70\n",
            "Loss = 3.5938e-02, PNorm = 40.3161, GNorm = 0.9708, lr_0 = 1.9505e-04\n",
            "Loss = 2.2129e-02, PNorm = 40.3209, GNorm = 1.2662, lr_0 = 1.9406e-04\n",
            "Loss = 1.9946e-02, PNorm = 40.3253, GNorm = 0.7875, lr_0 = 1.9307e-04\n",
            "Loss = 2.3302e-02, PNorm = 40.3297, GNorm = 1.3455, lr_0 = 1.9209e-04\n",
            "Loss = 2.5242e-02, PNorm = 40.3334, GNorm = 0.4486, lr_0 = 1.9111e-04\n",
            "Validation rmse = 0.512967\n",
            " 71%|███████   | 71/100 [01:52<00:44,  1.54s/it]Epoch 71\n",
            "Loss = 2.1261e-02, PNorm = 40.3372, GNorm = 0.9480, lr_0 = 1.9004e-04\n",
            "Loss = 2.2402e-02, PNorm = 40.3414, GNorm = 2.0393, lr_0 = 1.8907e-04\n",
            "Loss = 2.3923e-02, PNorm = 40.3474, GNorm = 0.3801, lr_0 = 1.8811e-04\n",
            "Loss = 2.2567e-02, PNorm = 40.3534, GNorm = 0.5156, lr_0 = 1.8715e-04\n",
            "Loss = 2.4334e-02, PNorm = 40.3581, GNorm = 0.4016, lr_0 = 1.8619e-04\n",
            "Validation rmse = 0.512419\n",
            " 72%|███████▏  | 72/100 [01:53<00:43,  1.54s/it]Epoch 72\n",
            "Loss = 1.9166e-02, PNorm = 40.3612, GNorm = 0.4815, lr_0 = 1.8524e-04\n",
            "Loss = 2.1498e-02, PNorm = 40.3648, GNorm = 0.6153, lr_0 = 1.8430e-04\n",
            "Loss = 2.0293e-02, PNorm = 40.3694, GNorm = 0.6546, lr_0 = 1.8336e-04\n",
            "Loss = 2.6551e-02, PNorm = 40.3737, GNorm = 1.3336, lr_0 = 1.8243e-04\n",
            "Validation rmse = 0.514537\n",
            " 73%|███████▎  | 73/100 [01:55<00:41,  1.53s/it]Epoch 73\n",
            "Loss = 2.2819e-02, PNorm = 40.3779, GNorm = 1.0841, lr_0 = 1.8141e-04\n",
            "Loss = 2.0369e-02, PNorm = 40.3814, GNorm = 0.6590, lr_0 = 1.8048e-04\n",
            "Loss = 2.1944e-02, PNorm = 40.3858, GNorm = 0.4746, lr_0 = 1.7956e-04\n",
            "Loss = 2.3344e-02, PNorm = 40.3898, GNorm = 1.7416, lr_0 = 1.7865e-04\n",
            "Loss = 2.4371e-02, PNorm = 40.3950, GNorm = 0.6127, lr_0 = 1.7774e-04\n",
            "Validation rmse = 0.512967\n",
            " 74%|███████▍  | 74/100 [01:56<00:39,  1.54s/it]Epoch 74\n",
            "Loss = 1.8788e-02, PNorm = 40.3992, GNorm = 0.5470, lr_0 = 1.7683e-04\n",
            "Loss = 1.9919e-02, PNorm = 40.4029, GNorm = 1.1277, lr_0 = 1.7593e-04\n",
            "Loss = 2.0947e-02, PNorm = 40.4066, GNorm = 0.9816, lr_0 = 1.7503e-04\n",
            "Loss = 2.4794e-02, PNorm = 40.4118, GNorm = 0.7448, lr_0 = 1.7414e-04\n",
            "Loss = 3.0908e-02, PNorm = 40.4137, GNorm = 3.5557, lr_0 = 1.7326e-04\n",
            "Validation rmse = 0.534052\n",
            " 75%|███████▌  | 75/100 [01:58<00:41,  1.64s/it]Epoch 75\n",
            "Loss = 2.3727e-02, PNorm = 40.4180, GNorm = 1.8006, lr_0 = 1.7237e-04\n",
            "Loss = 2.1741e-02, PNorm = 40.4225, GNorm = 1.2908, lr_0 = 1.7149e-04\n",
            "Loss = 2.2569e-02, PNorm = 40.4275, GNorm = 0.6617, lr_0 = 1.7062e-04\n",
            "Loss = 2.2289e-02, PNorm = 40.4310, GNorm = 0.5372, lr_0 = 1.6975e-04\n",
            "Validation rmse = 0.508558\n",
            " 76%|███████▌  | 76/100 [02:00<00:38,  1.61s/it]Epoch 76\n",
            "Loss = 1.7463e-02, PNorm = 40.4331, GNorm = 0.3497, lr_0 = 1.6880e-04\n",
            "Loss = 2.2275e-02, PNorm = 40.4374, GNorm = 0.6114, lr_0 = 1.6794e-04\n",
            "Loss = 2.1695e-02, PNorm = 40.4409, GNorm = 1.1361, lr_0 = 1.6708e-04\n",
            "Loss = 2.1787e-02, PNorm = 40.4454, GNorm = 0.5867, lr_0 = 1.6623e-04\n",
            "Loss = 2.0261e-02, PNorm = 40.4512, GNorm = 1.4319, lr_0 = 1.6539e-04\n",
            "Validation rmse = 0.505327\n",
            " 77%|███████▋  | 77/100 [02:01<00:36,  1.59s/it]Epoch 77\n",
            "Loss = 1.8210e-02, PNorm = 40.4552, GNorm = 0.3782, lr_0 = 1.6454e-04\n",
            "Loss = 2.1532e-02, PNorm = 40.4590, GNorm = 1.1800, lr_0 = 1.6371e-04\n",
            "Loss = 2.0538e-02, PNorm = 40.4621, GNorm = 0.6605, lr_0 = 1.6287e-04\n",
            "Loss = 1.9135e-02, PNorm = 40.4662, GNorm = 0.6081, lr_0 = 1.6204e-04\n",
            "Loss = 2.1014e-02, PNorm = 40.4697, GNorm = 1.0851, lr_0 = 1.6122e-04\n",
            "Validation rmse = 0.508997\n",
            " 78%|███████▊  | 78/100 [02:03<00:34,  1.57s/it]Epoch 78\n",
            "Loss = 2.0080e-02, PNorm = 40.4748, GNorm = 1.3690, lr_0 = 1.6031e-04\n",
            "Loss = 2.3258e-02, PNorm = 40.4780, GNorm = 0.6603, lr_0 = 1.5950e-04\n",
            "Loss = 1.8661e-02, PNorm = 40.4825, GNorm = 0.8833, lr_0 = 1.5868e-04\n",
            "Loss = 2.2044e-02, PNorm = 40.4854, GNorm = 0.5108, lr_0 = 1.5788e-04\n",
            "Validation rmse = 0.512634\n",
            " 79%|███████▉  | 79/100 [02:04<00:32,  1.57s/it]Epoch 79\n",
            "Loss = 1.9675e-02, PNorm = 40.4887, GNorm = 0.4457, lr_0 = 1.5707e-04\n",
            "Loss = 1.9588e-02, PNorm = 40.4927, GNorm = 0.3809, lr_0 = 1.5627e-04\n",
            "Loss = 1.9440e-02, PNorm = 40.4952, GNorm = 0.5729, lr_0 = 1.5547e-04\n",
            "Loss = 2.2435e-02, PNorm = 40.4995, GNorm = 0.7421, lr_0 = 1.5468e-04\n",
            "Loss = 2.1162e-02, PNorm = 40.5017, GNorm = 0.4994, lr_0 = 1.5389e-04\n",
            "Validation rmse = 0.517453\n",
            " 80%|████████  | 80/100 [02:06<00:31,  1.56s/it]Epoch 80\n",
            "Loss = 1.8262e-02, PNorm = 40.5046, GNorm = 0.7111, lr_0 = 1.5303e-04\n",
            "Loss = 1.9953e-02, PNorm = 40.5078, GNorm = 0.4087, lr_0 = 1.5225e-04\n",
            "Loss = 2.5738e-02, PNorm = 40.5116, GNorm = 1.3896, lr_0 = 1.5148e-04\n",
            "Loss = 1.8389e-02, PNorm = 40.5162, GNorm = 1.1653, lr_0 = 1.5071e-04\n",
            "Loss = 2.1471e-02, PNorm = 40.5194, GNorm = 1.4832, lr_0 = 1.4994e-04\n",
            "Validation rmse = 0.512452\n",
            " 81%|████████  | 81/100 [02:07<00:29,  1.55s/it]Epoch 81\n",
            "Loss = 1.7375e-02, PNorm = 40.5229, GNorm = 0.6004, lr_0 = 1.4917e-04\n",
            "Loss = 2.0945e-02, PNorm = 40.5266, GNorm = 0.5803, lr_0 = 1.4841e-04\n",
            "Loss = 1.8450e-02, PNorm = 40.5299, GNorm = 1.3349, lr_0 = 1.4766e-04\n",
            "Loss = 2.0408e-02, PNorm = 40.5328, GNorm = 0.7525, lr_0 = 1.4690e-04\n",
            "Validation rmse = 0.507370\n",
            " 82%|████████▏ | 82/100 [02:09<00:27,  1.55s/it]Epoch 82\n",
            "Loss = 1.5093e-02, PNorm = 40.5372, GNorm = 0.5317, lr_0 = 1.4608e-04\n",
            "Loss = 2.0455e-02, PNorm = 40.5402, GNorm = 0.7986, lr_0 = 1.4534e-04\n",
            "Loss = 1.7874e-02, PNorm = 40.5445, GNorm = 0.4583, lr_0 = 1.4460e-04\n",
            "Loss = 1.8319e-02, PNorm = 40.5477, GNorm = 1.0933, lr_0 = 1.4386e-04\n",
            "Loss = 2.1424e-02, PNorm = 40.5509, GNorm = 1.5486, lr_0 = 1.4313e-04\n",
            "Validation rmse = 0.501890\n",
            " 83%|████████▎ | 83/100 [02:11<00:26,  1.56s/it]Epoch 83\n",
            "Loss = 1.6459e-02, PNorm = 40.5540, GNorm = 1.5299, lr_0 = 1.4240e-04\n",
            "Loss = 1.6874e-02, PNorm = 40.5574, GNorm = 1.2367, lr_0 = 1.4167e-04\n",
            "Loss = 2.0635e-02, PNorm = 40.5604, GNorm = 0.8434, lr_0 = 1.4095e-04\n",
            "Loss = 1.8358e-02, PNorm = 40.5641, GNorm = 0.7884, lr_0 = 1.4023e-04\n",
            "Loss = 2.0668e-02, PNorm = 40.5672, GNorm = 0.5939, lr_0 = 1.3952e-04\n",
            "Validation rmse = 0.508626\n",
            " 84%|████████▍ | 84/100 [02:12<00:24,  1.56s/it]Epoch 84\n",
            "Loss = 2.1180e-02, PNorm = 40.5713, GNorm = 1.7121, lr_0 = 1.3881e-04\n",
            "Loss = 1.7521e-02, PNorm = 40.5752, GNorm = 0.5429, lr_0 = 1.3810e-04\n",
            "Loss = 2.0035e-02, PNorm = 40.5783, GNorm = 0.4992, lr_0 = 1.3740e-04\n",
            "Loss = 2.0852e-02, PNorm = 40.5810, GNorm = 0.5525, lr_0 = 1.3670e-04\n",
            "Validation rmse = 0.505870\n",
            " 85%|████████▌ | 85/100 [02:14<00:23,  1.55s/it]Epoch 85\n",
            "Loss = 1.5865e-02, PNorm = 40.5843, GNorm = 0.8218, lr_0 = 1.3593e-04\n",
            "Loss = 1.9797e-02, PNorm = 40.5867, GNorm = 0.4503, lr_0 = 1.3524e-04\n",
            "Loss = 1.9452e-02, PNorm = 40.5898, GNorm = 0.8776, lr_0 = 1.3455e-04\n",
            "Loss = 1.8850e-02, PNorm = 40.5939, GNorm = 0.5885, lr_0 = 1.3386e-04\n",
            "Loss = 2.1057e-02, PNorm = 40.5959, GNorm = 1.5948, lr_0 = 1.3318e-04\n",
            "Validation rmse = 0.505473\n",
            " 86%|████████▌ | 86/100 [02:16<00:23,  1.66s/it]Epoch 86\n",
            "Loss = 1.7507e-02, PNorm = 40.5985, GNorm = 0.9771, lr_0 = 1.3250e-04\n",
            "Loss = 1.7991e-02, PNorm = 40.6022, GNorm = 0.9377, lr_0 = 1.3183e-04\n",
            "Loss = 1.7516e-02, PNorm = 40.6049, GNorm = 1.2088, lr_0 = 1.3116e-04\n",
            "Loss = 1.8661e-02, PNorm = 40.6075, GNorm = 0.4570, lr_0 = 1.3049e-04\n",
            "Loss = 1.8983e-02, PNorm = 40.6102, GNorm = 0.5671, lr_0 = 1.2982e-04\n",
            "Loss = 1.8031e-02, PNorm = 40.6103, GNorm = 1.5535, lr_0 = 1.2976e-04\n",
            "Validation rmse = 0.508458\n",
            " 87%|████████▋ | 87/100 [02:17<00:21,  1.63s/it]Epoch 87\n",
            "Loss = 1.8224e-02, PNorm = 40.6138, GNorm = 0.4318, lr_0 = 1.2910e-04\n",
            "Loss = 1.5170e-02, PNorm = 40.6169, GNorm = 0.3696, lr_0 = 1.2844e-04\n",
            "Loss = 2.0451e-02, PNorm = 40.6203, GNorm = 0.3646, lr_0 = 1.2778e-04\n",
            "Loss = 1.8001e-02, PNorm = 40.6227, GNorm = 0.7120, lr_0 = 1.2713e-04\n",
            "Validation rmse = 0.509477\n",
            " 88%|████████▊ | 88/100 [02:19<00:19,  1.60s/it]Epoch 88\n",
            "Loss = 1.4098e-02, PNorm = 40.6254, GNorm = 0.5978, lr_0 = 1.2649e-04\n",
            "Loss = 1.6594e-02, PNorm = 40.6278, GNorm = 0.5519, lr_0 = 1.2584e-04\n",
            "Loss = 2.1933e-02, PNorm = 40.6311, GNorm = 0.6374, lr_0 = 1.2520e-04\n",
            "Loss = 1.9595e-02, PNorm = 40.6338, GNorm = 0.5081, lr_0 = 1.2456e-04\n",
            "Loss = 1.5592e-02, PNorm = 40.6368, GNorm = 0.7412, lr_0 = 1.2393e-04\n",
            "Validation rmse = 0.509304\n",
            " 89%|████████▉ | 89/100 [02:20<00:17,  1.59s/it]Epoch 89\n",
            "Loss = 1.6564e-02, PNorm = 40.6409, GNorm = 0.4576, lr_0 = 1.2323e-04\n",
            "Loss = 2.1505e-02, PNorm = 40.6444, GNorm = 0.8903, lr_0 = 1.2261e-04\n",
            "Loss = 1.6968e-02, PNorm = 40.6472, GNorm = 1.0266, lr_0 = 1.2198e-04\n",
            "Loss = 2.0406e-02, PNorm = 40.6506, GNorm = 0.7875, lr_0 = 1.2136e-04\n",
            "Loss = 1.8088e-02, PNorm = 40.6536, GNorm = 0.5471, lr_0 = 1.2074e-04\n",
            "Validation rmse = 0.508918\n",
            " 90%|█████████ | 90/100 [02:22<00:15,  1.58s/it]Epoch 90\n",
            "Loss = 1.7008e-02, PNorm = 40.6571, GNorm = 2.3746, lr_0 = 1.2013e-04\n",
            "Loss = 2.0036e-02, PNorm = 40.6603, GNorm = 1.1486, lr_0 = 1.1951e-04\n",
            "Loss = 1.7582e-02, PNorm = 40.6634, GNorm = 0.6772, lr_0 = 1.1890e-04\n",
            "Loss = 1.6927e-02, PNorm = 40.6658, GNorm = 0.9321, lr_0 = 1.1830e-04\n",
            "Validation rmse = 0.518995\n",
            " 91%|█████████ | 91/100 [02:23<00:14,  1.57s/it]Epoch 91\n",
            "Loss = 1.8178e-02, PNorm = 40.6683, GNorm = 1.6203, lr_0 = 1.1764e-04\n",
            "Loss = 1.8159e-02, PNorm = 40.6701, GNorm = 1.5851, lr_0 = 1.1704e-04\n",
            "Loss = 1.7712e-02, PNorm = 40.6715, GNorm = 1.0894, lr_0 = 1.1644e-04\n",
            "Loss = 1.7446e-02, PNorm = 40.6749, GNorm = 0.6578, lr_0 = 1.1585e-04\n",
            "Loss = 1.7745e-02, PNorm = 40.6778, GNorm = 0.6898, lr_0 = 1.1526e-04\n",
            "Validation rmse = 0.520558\n",
            " 92%|█████████▏| 92/100 [02:25<00:12,  1.55s/it]Epoch 92\n",
            "Loss = 1.9192e-02, PNorm = 40.6800, GNorm = 1.7206, lr_0 = 1.1467e-04\n",
            "Loss = 1.8864e-02, PNorm = 40.6836, GNorm = 1.5359, lr_0 = 1.1409e-04\n",
            "Loss = 1.9760e-02, PNorm = 40.6860, GNorm = 2.1921, lr_0 = 1.1350e-04\n",
            "Loss = 1.7363e-02, PNorm = 40.6887, GNorm = 0.9738, lr_0 = 1.1293e-04\n",
            "Loss = 1.8873e-02, PNorm = 40.6907, GNorm = 1.5973, lr_0 = 1.1235e-04\n",
            "Validation rmse = 0.515775\n",
            " 93%|█████████▎| 93/100 [02:26<00:10,  1.55s/it]Epoch 93\n",
            "Loss = 1.5752e-02, PNorm = 40.6931, GNorm = 0.8234, lr_0 = 1.1178e-04\n",
            "Loss = 1.6407e-02, PNorm = 40.6963, GNorm = 1.4564, lr_0 = 1.1121e-04\n",
            "Loss = 1.5838e-02, PNorm = 40.6982, GNorm = 0.3450, lr_0 = 1.1064e-04\n",
            "Loss = 1.9528e-02, PNorm = 40.7017, GNorm = 0.9019, lr_0 = 1.1008e-04\n",
            "Validation rmse = 0.516924\n",
            " 94%|█████████▍| 94/100 [02:28<00:09,  1.55s/it]Epoch 94\n",
            "Loss = 1.6241e-02, PNorm = 40.7048, GNorm = 0.5231, lr_0 = 1.0946e-04\n",
            "Loss = 1.4948e-02, PNorm = 40.7065, GNorm = 0.5775, lr_0 = 1.0890e-04\n",
            "Loss = 1.7662e-02, PNorm = 40.7091, GNorm = 0.4835, lr_0 = 1.0835e-04\n",
            "Loss = 1.6465e-02, PNorm = 40.7112, GNorm = 0.4219, lr_0 = 1.0780e-04\n",
            "Loss = 2.0281e-02, PNorm = 40.7139, GNorm = 1.7747, lr_0 = 1.0725e-04\n",
            "Validation rmse = 0.523679\n",
            " 95%|█████████▌| 95/100 [02:30<00:07,  1.54s/it]Epoch 95\n",
            "Loss = 2.3981e-02, PNorm = 40.7162, GNorm = 0.5028, lr_0 = 1.0670e-04\n",
            "Loss = 1.8724e-02, PNorm = 40.7192, GNorm = 1.2958, lr_0 = 1.0616e-04\n",
            "Loss = 1.6631e-02, PNorm = 40.7219, GNorm = 0.4100, lr_0 = 1.0562e-04\n",
            "Loss = 1.6258e-02, PNorm = 40.7241, GNorm = 1.6136, lr_0 = 1.0508e-04\n",
            "Validation rmse = 0.514373\n",
            " 96%|█████████▌| 96/100 [02:31<00:06,  1.55s/it]Epoch 96\n",
            "Loss = 1.2978e-02, PNorm = 40.7254, GNorm = 0.7431, lr_0 = 1.0449e-04\n",
            "Loss = 1.5257e-02, PNorm = 40.7274, GNorm = 0.4287, lr_0 = 1.0396e-04\n",
            "Loss = 1.5572e-02, PNorm = 40.7293, GNorm = 0.4191, lr_0 = 1.0343e-04\n",
            "Loss = 1.4716e-02, PNorm = 40.7321, GNorm = 1.6984, lr_0 = 1.0290e-04\n",
            "Loss = 2.1026e-02, PNorm = 40.7346, GNorm = 0.8133, lr_0 = 1.0238e-04\n",
            "Validation rmse = 0.511875\n",
            " 97%|█████████▋| 97/100 [02:33<00:04,  1.55s/it]Epoch 97\n",
            "Loss = 1.6877e-02, PNorm = 40.7367, GNorm = 1.1429, lr_0 = 1.0186e-04\n",
            "Loss = 1.4994e-02, PNorm = 40.7395, GNorm = 1.9091, lr_0 = 1.0134e-04\n",
            "Loss = 1.6544e-02, PNorm = 40.7414, GNorm = 0.5230, lr_0 = 1.0082e-04\n",
            "Loss = 1.5844e-02, PNorm = 40.7432, GNorm = 0.6569, lr_0 = 1.0031e-04\n",
            "Loss = 1.7251e-02, PNorm = 40.7461, GNorm = 0.5472, lr_0 = 1.0000e-04\n",
            "Validation rmse = 0.517206\n",
            " 98%|█████████▊| 98/100 [02:34<00:03,  1.65s/it]Epoch 98\n",
            "Loss = 1.7260e-02, PNorm = 40.7478, GNorm = 1.1186, lr_0 = 1.0000e-04\n",
            "Loss = 1.7621e-02, PNorm = 40.7504, GNorm = 1.0351, lr_0 = 1.0000e-04\n",
            "Loss = 1.5676e-02, PNorm = 40.7532, GNorm = 1.3115, lr_0 = 1.0000e-04\n",
            "Loss = 1.9026e-02, PNorm = 40.7550, GNorm = 0.4500, lr_0 = 1.0000e-04\n",
            "Validation rmse = 0.513626\n",
            " 99%|█████████▉| 99/100 [02:36<00:01,  1.61s/it]Epoch 99\n",
            "Loss = 1.1819e-02, PNorm = 40.7581, GNorm = 1.0525, lr_0 = 1.0000e-04\n",
            "Loss = 1.6601e-02, PNorm = 40.7599, GNorm = 0.4680, lr_0 = 1.0000e-04\n",
            "Loss = 1.5051e-02, PNorm = 40.7613, GNorm = 0.7916, lr_0 = 1.0000e-04\n",
            "Loss = 1.5460e-02, PNorm = 40.7638, GNorm = 0.6547, lr_0 = 1.0000e-04\n",
            "Loss = 1.7589e-02, PNorm = 40.7668, GNorm = 0.6096, lr_0 = 1.0000e-04\n",
            "Validation rmse = 0.512145\n",
            "100%|██████████| 100/100 [02:38<00:00,  1.58s/it]\n",
            "Model 0 best validation rmse = 0.499801 on epoch 53\n",
            "Loading pretrained parameter \"encoder.encoder.0.cached_zero_vector\".\n",
            "Loading pretrained parameter \"encoder.encoder.0.W_i.weight\".\n",
            "Loading pretrained parameter \"encoder.encoder.0.W_h.weight\".\n",
            "Loading pretrained parameter \"encoder.encoder.0.W_o.weight\".\n",
            "Loading pretrained parameter \"encoder.encoder.0.W_o.bias\".\n",
            "Loading pretrained parameter \"ffn.1.weight\".\n",
            "Loading pretrained parameter \"ffn.1.bias\".\n",
            "Loading pretrained parameter \"ffn.4.weight\".\n",
            "Loading pretrained parameter \"ffn.4.bias\".\n",
            "Moving model to cuda\n",
            "Model 0 test rmse = 0.549230                 \n",
            "Ensemble test rmse = 0.549230\n",
            "1-fold cross validation\n",
            "\tSeed 0 ==> test rmse = 0.549230\n",
            "Overall test rmse = 0.549230 +/- 0.000000\n",
            "Elapsed time = 0:02:39\n"
          ]
        }
      ],
      "source": [
        "arguments = [\n",
        "    # '--data_path', 'tests/data/regression.csv',\n",
        "    '--data_path','/home/ymyung/projects/deeppk/1_dataset/pk_data/processed_data/0_properties_trimed_Murckos/01_log_d7.4_interpretable_admet.smi',\n",
        "    '--target_columns','label',\n",
        "    '--dataset_type', 'regression',\n",
        "    '--save_dir', 'test_checkpoints_reg',\n",
        "    '--epochs', '100',\n",
        "    '--split_type','scaffold_balanced',\n",
        "    '--save_smiles_splits'\n",
        "]\n",
        "\n",
        "args = chemprop.args.TrainArgs().parse_args(arguments)\n",
        "mean_score, std_score = chemprop.train.cross_validate(args=args, train_func=chemprop.train.run_training)"
      ]
    },
    {
      "cell_type": "markdown",
      "metadata": {
        "id": "WZktZ7DsAAMn"
      },
      "source": [
        "# Predict from file"
      ]
    },
    {
      "cell_type": "code",
      "execution_count": 30,
      "metadata": {
        "colab": {
          "base_uri": "https://localhost:8080/"
        },
        "id": "5a1-7UXcJCss",
        "outputId": "4f36f2cc-196e-4634-f9f8-f5dfbda509ad",
        "scrolled": true
      },
      "outputs": [
        {
          "name": "stdout",
          "output_type": "stream",
          "text": [
            "Loading training args\n",
            "Setting molecule featurization parameters to default.\n",
            "Loading data\n"
          ]
        },
        {
          "name": "stderr",
          "output_type": "stream",
          "text": [
            "291it [00:00, 463028.25it/s]\n",
            "100%|██████████| 291/291 [00:00<00:00, 332030.05it/s]\n"
          ]
        },
        {
          "name": "stdout",
          "output_type": "stream",
          "text": [
            "Validating SMILES\n",
            "Test size = 291\n"
          ]
        },
        {
          "name": "stderr",
          "output_type": "stream",
          "text": [
            "  0%|          | 0/1 [00:00<?, ?it/s]"
          ]
        },
        {
          "name": "stdout",
          "output_type": "stream",
          "text": [
            "Loading pretrained parameter \"encoder.encoder.0.cached_zero_vector\".\n",
            "Loading pretrained parameter \"encoder.encoder.0.W_i.weight\".\n",
            "Loading pretrained parameter \"encoder.encoder.0.W_h.weight\".\n",
            "Loading pretrained parameter \"encoder.encoder.0.W_o.weight\".\n",
            "Loading pretrained parameter \"encoder.encoder.0.W_o.bias\".\n",
            "Loading pretrained parameter \"ffn.1.weight\".\n",
            "Loading pretrained parameter \"ffn.1.bias\".\n",
            "Loading pretrained parameter \"ffn.4.weight\".\n",
            "Loading pretrained parameter \"ffn.4.bias\".\n",
            "Moving model to cuda\n"
          ]
        },
        {
          "name": "stderr",
          "output_type": "stream",
          "text": [
            "100%|██████████| 1/1 [00:00<00:00,  1.94it/s]"
          ]
        },
        {
          "name": "stdout",
          "output_type": "stream",
          "text": [
            "Saving predictions to test_preds_reg.csv\n",
            "Elapsed time = 0:00:01\n"
          ]
        },
        {
          "name": "stderr",
          "output_type": "stream",
          "text": [
            "\n"
          ]
        }
      ],
      "source": [
        "arguments = [\n",
        "    '--test_path', 'test_checkpoints_reg/fold_0/test_smiles.csv',\n",
        "    '--preds_path', 'test_preds_reg.csv',\n",
        "    '--checkpoint_dir', 'test_checkpoints_reg'\n",
        "]\n",
        "\n",
        "args = chemprop.args.PredictArgs().parse_args(arguments)\n",
        "preds = chemprop.train.make_predictions(args=args)"
      ]
    },
    {
      "cell_type": "code",
      "execution_count": 31,
      "metadata": {
        "colab": {
          "base_uri": "https://localhost:8080/",
          "height": 1000
        },
        "id": "j-4hbBeerlX0",
        "outputId": "e4158008-646b-4102-da0f-d43fa77661e9",
        "scrolled": true
      },
      "outputs": [
        {
          "data": {
            "text/html": [
              "<div>\n",
              "<style scoped>\n",
              "    .dataframe tbody tr th:only-of-type {\n",
              "        vertical-align: middle;\n",
              "    }\n",
              "\n",
              "    .dataframe tbody tr th {\n",
              "        vertical-align: top;\n",
              "    }\n",
              "\n",
              "    .dataframe thead th {\n",
              "        text-align: right;\n",
              "    }\n",
              "</style>\n",
              "<table border=\"1\" class=\"dataframe\">\n",
              "  <thead>\n",
              "    <tr style=\"text-align: right;\">\n",
              "      <th></th>\n",
              "      <th>smiles</th>\n",
              "      <th>label</th>\n",
              "      <th>preds</th>\n",
              "    </tr>\n",
              "  </thead>\n",
              "  <tbody>\n",
              "    <tr>\n",
              "      <th>0</th>\n",
              "      <td>NS(=O)(=O)c1cccc2c1c([N+](=O)[O-])cc1[nH]c(=O)...</td>\n",
              "      <td>0.36</td>\n",
              "      <td>0.712848</td>\n",
              "    </tr>\n",
              "    <tr>\n",
              "      <th>1</th>\n",
              "      <td>CCC(CC)NC(=O)c1cnn(-c2ccccn2)c1N=S(=O)(O)c1ccc...</td>\n",
              "      <td>0.27</td>\n",
              "      <td>0.494639</td>\n",
              "    </tr>\n",
              "    <tr>\n",
              "      <th>2</th>\n",
              "      <td>CCCC(=O)N1CCN(c2nnc(-c3ccccc3)c3ccccc23)CC1</td>\n",
              "      <td>3.20</td>\n",
              "      <td>3.672955</td>\n",
              "    </tr>\n",
              "    <tr>\n",
              "      <th>3</th>\n",
              "      <td>CN(C)C(=O)C(Cc1ccccc1)NC(=O)c1cc2sccc2[nH]1</td>\n",
              "      <td>3.10</td>\n",
              "      <td>3.334751</td>\n",
              "    </tr>\n",
              "    <tr>\n",
              "      <th>4</th>\n",
              "      <td>CC(C)C(NC(=O)Cn1c(-c2ccc(F)cc2)ncc(NC(=O)OCc2c...</td>\n",
              "      <td>2.22</td>\n",
              "      <td>1.933683</td>\n",
              "    </tr>\n",
              "    <tr>\n",
              "      <th>...</th>\n",
              "      <td>...</td>\n",
              "      <td>...</td>\n",
              "      <td>...</td>\n",
              "    </tr>\n",
              "    <tr>\n",
              "      <th>286</th>\n",
              "      <td>NS(=O)(=O)c1cccc(Nc2nccc(Nc3c(Cl)ccc4c3OCO4)n2)c1</td>\n",
              "      <td>2.97</td>\n",
              "      <td>2.846136</td>\n",
              "    </tr>\n",
              "    <tr>\n",
              "      <th>287</th>\n",
              "      <td>O=C(Nc1ccccn1)c1ccc2[nH]c(-c3ccc(NC(=O)C45CC6C...</td>\n",
              "      <td>4.24</td>\n",
              "      <td>3.615396</td>\n",
              "    </tr>\n",
              "    <tr>\n",
              "      <th>288</th>\n",
              "      <td>O=C1COC2(CCN(S(=O)(=O)c3ccc(-c4ccc5cccnc5c4)cc...</td>\n",
              "      <td>3.24</td>\n",
              "      <td>3.166051</td>\n",
              "    </tr>\n",
              "    <tr>\n",
              "      <th>289</th>\n",
              "      <td>Cc1nc(C)c(-c2ccc(C34CCC(C(=O)O)(CC3)CC4)cc2)nc...</td>\n",
              "      <td>1.30</td>\n",
              "      <td>1.550934</td>\n",
              "    </tr>\n",
              "    <tr>\n",
              "      <th>290</th>\n",
              "      <td>Cc1nc(C)c(-c2ccc(C34CCC(CC(=O)O)(CC3)CC4)cc2)n...</td>\n",
              "      <td>1.60</td>\n",
              "      <td>1.391076</td>\n",
              "    </tr>\n",
              "  </tbody>\n",
              "</table>\n",
              "<p>291 rows × 3 columns</p>\n",
              "</div>"
            ],
            "text/plain": [
              "                                                smiles  label     preds\n",
              "0    NS(=O)(=O)c1cccc2c1c([N+](=O)[O-])cc1[nH]c(=O)...   0.36  0.712848\n",
              "1    CCC(CC)NC(=O)c1cnn(-c2ccccn2)c1N=S(=O)(O)c1ccc...   0.27  0.494639\n",
              "2          CCCC(=O)N1CCN(c2nnc(-c3ccccc3)c3ccccc23)CC1   3.20  3.672955\n",
              "3          CN(C)C(=O)C(Cc1ccccc1)NC(=O)c1cc2sccc2[nH]1   3.10  3.334751\n",
              "4    CC(C)C(NC(=O)Cn1c(-c2ccc(F)cc2)ncc(NC(=O)OCc2c...   2.22  1.933683\n",
              "..                                                 ...    ...       ...\n",
              "286  NS(=O)(=O)c1cccc(Nc2nccc(Nc3c(Cl)ccc4c3OCO4)n2)c1   2.97  2.846136\n",
              "287  O=C(Nc1ccccn1)c1ccc2[nH]c(-c3ccc(NC(=O)C45CC6C...   4.24  3.615396\n",
              "288  O=C1COC2(CCN(S(=O)(=O)c3ccc(-c4ccc5cccnc5c4)cc...   3.24  3.166051\n",
              "289  Cc1nc(C)c(-c2ccc(C34CCC(C(=O)O)(CC3)CC4)cc2)nc...   1.30  1.550934\n",
              "290  Cc1nc(C)c(-c2ccc(C34CCC(CC(=O)O)(CC3)CC4)cc2)n...   1.60  1.391076\n",
              "\n",
              "[291 rows x 3 columns]"
            ]
          },
          "execution_count": 31,
          "metadata": {},
          "output_type": "execute_result"
        }
      ],
      "source": [
        "df = pd.read_csv('test_checkpoints_reg/fold_0/test_full.csv')\n",
        "df['preds'] = [x[0] for x in preds]\n",
        "df"
      ]
    },
    {
      "cell_type": "code",
      "execution_count": 32,
      "metadata": {},
      "outputs": [
        {
          "name": "stdout",
          "output_type": "stream",
          "text": [
            "PearsonRResult(statistic=0.8778442576268555, pvalue=2.138550465080666e-94) 0.5492302719710523\n"
          ]
        }
      ],
      "source": [
        "pearson = scipy.stats.pearsonr(df['label'], df['preds'])\n",
        "rmse = mean_squared_error(df['label'], df['preds'], squared=False)\n",
        "print(pearson, rmse)"
      ]
    },
    {
      "cell_type": "code",
      "execution_count": 33,
      "metadata": {
        "colab": {
          "base_uri": "https://localhost:8080/",
          "height": 279
        },
        "id": "hj726FiKqj4q",
        "outputId": "c0f101b0-9c08-4d43-ecf8-84a2ffdb055c"
      },
      "outputs": [
        {
          "data": {
            "image/png": "[encoded data removed]",
            "text/plain": [
              "<Figure size 640x480 with 1 Axes>"
            ]
          },
          "metadata": {},
          "output_type": "display_data"
        }
      ],
      "source": [
        "plot_parity(df.label, df.preds)"
      ]
    },
    {
      "cell_type": "code",
      "execution_count": 46,
      "metadata": {},
      "outputs": [
        {
          "name": "stdout",
          "output_type": "stream",
          "text": [
            "['/home/ymyung/projects/deeppk/1_dataset/pk_data/processed_data/0_properties_trimed_Murckos/04_log_vp_interpretable_admet.smi', '/home/ymyung/projects/deeppk/1_dataset/pk_data/processed_data/0_properties_trimed_Murckos/06_mp_interpretable_admet.smi', '/home/ymyung/projects/deeppk/1_dataset/pk_data/processed_data/0_properties_trimed_Murckos/02_pka_acid_interpretable_admet.smi', '/home/ymyung/projects/deeppk/1_dataset/pk_data/processed_data/5-toxicity_trimed_Murckos/66_rat_oral_acute_toxicity_ld50_interpretable_admet.smi', '/home/ymyung/projects/deeppk/1_dataset/pk_data/processed_data/0_properties_trimed_Murckos/01_log_d7.4_interpretable_admet.smi', '/home/ymyung/projects/deeppk/1_dataset/pk_data/processed_data/5-toxicity_trimed_Murckos/55_fathead_minnow_lc50_interpretable_admet.smi', '/home/ymyung/projects/deeppk/1_dataset/pk_data/processed_data/5-toxicity_trimed_Murckos/49_bioconcentration_factor_interpretable_admet.smi', '/home/ymyung/projects/deeppk/1_dataset/pk_data/processed_data/0_properties_trimed_Murckos/09_hydration_free_energy_interpretable_admet.smi', '/home/ymyung/projects/deeppk/1_dataset/pk_data/processed_data/0_properties_trimed_Murckos/08_log_p_interpretable_admet.smi', '/home/ymyung/projects/deeppk/1_dataset/pk_data/processed_data/5-toxicity_trimed_Murckos/74_tetrahymena_pyriformis_interpretable_admet.smi', '/home/ymyung/projects/deeppk/1_dataset/pk_data/processed_data/2-distribution_trimed_Murckos/24_ppb_interpretable_admet.smi', '/home/ymyung/projects/deeppk/1_dataset/pk_data/processed_data/0_properties_trimed_Murckos/05_bp_interpretable_admet.smi', '/home/ymyung/projects/deeppk/1_dataset/pk_data/processed_data/0_properties_trimed_Murckos/03_pka_basic_interpretable_admet.smi', '/home/ymyung/projects/deeppk/1_dataset/pk_data/processed_data/1_absorption_trimed_Murckos/10_log_s_interpretable_admet.smi']\n"
          ]
        },
        {
          "name": "stderr",
          "output_type": "stream",
          "text": [
            "usage: ipykernel_launcher.py --data_path DATA_PATH\n",
            "                             [--target_columns [TARGET_COLUMNS ...]]\n",
            "                             [--ignore_columns [IGNORE_COLUMNS ...]]\n",
            "                             --dataset_type\n",
            "                             {regression,classification,multiclass,spectra}\n",
            "                             [--loss_function {mse,bounded_mse,binary_cross_entropy,cross_entropy,mcc,sid,wasserstein,mve,evidential,dirichlet}]\n",
            "                             [--multiclass_num_classes MULTICLASS_NUM_CLASSES]\n",
            "                             [--separate_val_path SEPARATE_VAL_PATH]\n",
            "                             [--separate_test_path SEPARATE_TEST_PATH]\n",
            "                             [--spectra_phase_mask_path SPECTRA_PHASE_MASK_PATH]\n",
            "                             [--data_weights_path DATA_WEIGHTS_PATH]\n",
            "                             [--target_weights [TARGET_WEIGHTS ...]]\n",
            "                             [--split_type {random,scaffold_balanced,predetermined,crossval,cv,cv-no-test,index_predetermined,random_with_repeated_smiles}]\n",
            "                             [--split_sizes [SPLIT_SIZES ...]]\n",
            "                             [--split_key_molecule SPLIT_KEY_MOLECULE]\n",
            "                             [--num_folds NUM_FOLDS] [--folds_file FOLDS_FILE]\n",
            "                             [--val_fold_index VAL_FOLD_INDEX]\n",
            "                             [--test_fold_index TEST_FOLD_INDEX]\n",
            "                             [--crossval_index_dir CROSSVAL_INDEX_DIR]\n",
            "                             [--crossval_index_file CROSSVAL_INDEX_FILE]\n",
            "                             [--seed SEED] [--pytorch_seed PYTORCH_SEED]\n",
            "                             [--metric {auc,prc-auc,rmse,mae,mse,r2,accuracy,cross_entropy,binary_cross_entropy,sid,wasserstein,f1,mcc,bounded_rmse,bounded_mae,bounded_mse}]\n",
            "                             [--extra_metrics [{auc,prc-auc,rmse,mae,mse,r2,accuracy,cross_entropy,binary_cross_entropy,sid,wasserstein,f1,mcc,bounded_rmse,bounded_mae,bounded_mse} ...]]\n",
            "                             [--save_dir SAVE_DIR]\n",
            "                             [--checkpoint_frzn CHECKPOINT_FRZN]\n",
            "                             [--save_smiles_splits] [--test] [--quiet]\n",
            "                             [--log_frequency LOG_FREQUENCY]\n",
            "                             [--show_individual_scores]\n",
            "                             [--cache_cutoff CACHE_CUTOFF] [--save_preds]\n",
            "                             [--resume_experiment] [--bias]\n",
            "                             [--hidden_size HIDDEN_SIZE] [--depth DEPTH]\n",
            "                             [--bias_solvent]\n",
            "                             [--hidden_size_solvent HIDDEN_SIZE_SOLVENT]\n",
            "                             [--depth_solvent DEPTH_SOLVENT] [--mpn_shared]\n",
            "                             [--dropout DROPOUT]\n",
            "                             [--activation {ReLU,LeakyReLU,PReLU,tanh,SELU,ELU}]\n",
            "                             [--atom_messages] [--undirected]\n",
            "                             [--ffn_hidden_size FFN_HIDDEN_SIZE]\n",
            "                             [--ffn_num_layers FFN_NUM_LAYERS]\n",
            "                             [--features_only]\n",
            "                             [--separate_val_features_path [SEPARATE_VAL_FEATURES_PATH ...]]\n",
            "                             [--separate_test_features_path [SEPARATE_TEST_FEATURES_PATH ...]]\n",
            "                             [--separate_val_phase_features_path SEPARATE_VAL_PHASE_FEATURES_PATH]\n",
            "                             [--separate_test_phase_features_path SEPARATE_TEST_PHASE_FEATURES_PATH]\n",
            "                             [--separate_val_atom_descriptors_path SEPARATE_VAL_ATOM_DESCRIPTORS_PATH]\n",
            "                             [--separate_test_atom_descriptors_path SEPARATE_TEST_ATOM_DESCRIPTORS_PATH]\n",
            "                             [--separate_val_bond_features_path SEPARATE_VAL_BOND_FEATURES_PATH]\n",
            "                             [--separate_test_bond_features_path SEPARATE_TEST_BOND_FEATURES_PATH]\n",
            "                             [--config_path CONFIG_PATH]\n",
            "                             [--ensemble_size ENSEMBLE_SIZE]\n",
            "                             [--aggregation {mean,sum,norm}]\n",
            "                             [--aggregation_norm AGGREGATION_NORM]\n",
            "                             [--reaction]\n",
            "                             [--reaction_mode {reac_prod,reac_diff,prod_diff,reac_prod_balance,reac_diff_balance,prod_diff_balance}]\n",
            "                             [--reaction_solvent] [--explicit_h] [--adding_h]\n",
            "                             [--epochs EPOCHS] [--warmup_epochs WARMUP_EPOCHS]\n",
            "                             [--init_lr INIT_LR] [--max_lr MAX_LR]\n",
            "                             [--final_lr FINAL_LR] [--grad_clip GRAD_CLIP]\n",
            "                             [--class_balance]\n",
            "                             [--spectra_activation {exp,softplus}]\n",
            "                             [--spectra_target_floor SPECTRA_TARGET_FLOOR]\n",
            "                             [--evidential_regularization EVIDENTIAL_REGULARIZATION]\n",
            "                             [--overwrite_default_atom_features]\n",
            "                             [--no_atom_descriptor_scaling]\n",
            "                             [--overwrite_default_bond_features]\n",
            "                             [--no_bond_features_scaling]\n",
            "                             [--frzn_ffn_layers FRZN_FFN_LAYERS]\n",
            "                             [--freeze_first_only]\n",
            "                             [--smiles_columns [SMILES_COLUMNS ...]]\n",
            "                             [--number_of_molecules NUMBER_OF_MOLECULES]\n",
            "                             [--checkpoint_dir CHECKPOINT_DIR]\n",
            "                             [--checkpoint_path CHECKPOINT_PATH]\n",
            "                             [--checkpoint_paths [CHECKPOINT_PATHS ...]]\n",
            "                             [--no_cuda] [--gpu {0}]\n",
            "                             [--features_generator [{morgan,morgan_count,rdkit_2d,rdkit_2d_normalized} ...]]\n",
            "                             [--features_path [FEATURES_PATH ...]]\n",
            "                             [--phase_features_path PHASE_FEATURES_PATH]\n",
            "                             [--no_features_scaling]\n",
            "                             [--max_data_size MAX_DATA_SIZE]\n",
            "                             [--num_workers NUM_WORKERS]\n",
            "                             [--batch_size BATCH_SIZE]\n",
            "                             [--atom_descriptors {feature,descriptor}]\n",
            "                             [--atom_descriptors_path ATOM_DESCRIPTORS_PATH]\n",
            "                             [--bond_features_path BOND_FEATURES_PATH]\n",
            "                             [--no_cache_mol] [--empty_cache] [-h]\n",
            "ipykernel_launcher.py: error: unrecognized arguments: --quite True\n"
          ]
        },
        {
          "ename": "SystemExit",
          "evalue": "2",
          "output_type": "error",
          "traceback": [
            "An exception has occurred, use %tb to see the full traceback.\n",
            "\u001b[0;31mSystemExit\u001b[0m\u001b[0;31m:\u001b[0m 2\n"
          ]
        },
        {
          "name": "stderr",
          "output_type": "stream",
          "text": [
            "/home/ymyung/miniconda3/envs/chemprop/lib/python3.10/site-packages/IPython/core/interactiveshell.py:3406: UserWarning: To exit: use 'exit', 'quit', or Ctrl-D.\n",
            "  warn(\"To exit: use 'exit', 'quit', or Ctrl-D.\", stacklevel=1)\n"
          ]
        }
      ],
      "source": [
        "regression_list = ['01_log_d7.4_interpretable_admet','02_pka_acid_interpretable_admet',\n",
        "'03_pka_basic_interpretable_admet','04_log_vp_interpretable_admet','05_bp_interpretable_admet',\n",
        "'06_mp_interpretable_admet','08_log_p_interpretable_admet','09_hydration_free_energy_interpretable_admet',\n",
        "'10_log_s_interpretable_admet','24_ppb_interpretable_admet','49_bioconcentration_factor_interpretable_admet',\n",
        "'55_fathead_minnow_lc50_interpretable_admet','66_rat_oral_acute_toxicity_ld50_interpretable_admet',\n",
        "'74_tetrahymena_pyriformis_interpretable_admet']\n",
        "\n",
        "dir_path = '/home/ymyung/projects/deeppk/1_dataset/pk_data/processed_data'\n",
        "all_smiles_list = glob.glob(os.path.join(dir_path,'**/*.smi'))\n",
        "all_smiles_list = [smi for smi in all_smiles_list if 'Murckos' in smi]\n",
        "all_smiles_list = [smi for smi in all_smiles_list if 'interpretable' in smi]\n",
        "interpretable_regression_tasks = list()\n",
        "interpretable_classification_tasks = list()\n",
        "\n",
        "# print(all_smiles_list)\n",
        "for each in all_smiles_list:\n",
        "    for eeach in regression_list:\n",
        "        if eeach in each:\n",
        "            interpretable_regression_tasks.append(each)\n",
        "        else:\n",
        "            interpretable_classification_tasks.append(each)\n",
        "interpretable_regression_tasks = list(set(interpretable_regression_tasks))\n",
        "interpretable_classification_tasks = list(set(interpretable_classification_tasks))\n",
        "print(interpretable_regression_tasks)\n",
        "\n",
        "for each in interpretable_regression_tasks:\n",
        "    data_path = each\n",
        "    save_dir = '{}_reg'.format(os.path.basename(each).split('.smi')[0])\n",
        "    arguments = [\n",
        "    '--data_path', data_path,\n",
        "    '--target_columns','label',\n",
        "    '--dataset_type', 'regression',\n",
        "    '--save_dir', save_dir,\n",
        "    '--epochs', '100',\n",
        "    '--split_type','scaffold_balanced',\n",
        "    '--save_smiles_splits',\n",
        "    '--quite', 'True',\n",
        "    '--extra_metrics', 'r2'\n",
        "    ]\n",
        "\n",
        "    args = chemprop.args.TrainArgs().parse_args(arguments)\n",
        "    mean_score, std_score = chemprop.train.cross_validate(args=args, train_func=chemprop.train.run_training)\n",
        "\n",
        "    arguments = [\n",
        "    '--test_path', '{}/fold_0/test_smiles.csv'.format(save_dir),\n",
        "    '--preds_path', '{}/test_preds_reg.csv'.format(save_dir),\n",
        "    '--checkpoint_dir', save_dir\n",
        "    ]\n",
        "\n",
        "    args = chemprop.args.PredictArgs().parse_args(arguments)\n",
        "    preds = chemprop.train.make_predictions(args=args)\n",
        "\n",
        "\n",
        "    df = pd.read_csv('{}/fold_0/test_full.csv'.format(save_dir))\n",
        "    df['preds'] = [x[0] for x in preds]\n",
        "    # df\n",
        "    pearson = scipy.stats.pearsonr(df['label'], df['preds'])\n",
        "    rmse = mean_squared_error(df['label'], df['preds'], squared=False)\n",
        "    print(pearson, rmse)\n"
      ]
    },
    {
      "cell_type": "markdown",
      "metadata": {
        "id": "GE9Tof7UK8cI"
      },
      "source": [
        "# Predict from SMILES list"
      ]
    },
    {
      "cell_type": "code",
      "execution_count": 9,
      "metadata": {
        "colab": {
          "base_uri": "https://localhost:8080/"
        },
        "id": "kswx6y_uJHqW",
        "outputId": "0e6dfa98-c6d6-4d57-ff03-2bb7465f9e9e",
        "scrolled": true
      },
      "outputs": [
        {
          "name": "stdout",
          "output_type": "stream",
          "text": [
            "Loading training args\n",
            "Setting molecule featurization parameters to default.\n",
            "Loading data\n",
            "Validating SMILES\n",
            "Test size = 3\n"
          ]
        },
        {
          "name": "stderr",
          "output_type": "stream",
          "text": [
            "  0%|          | 0/1 [00:00<?, ?it/s]"
          ]
        },
        {
          "name": "stdout",
          "output_type": "stream",
          "text": [
            "Loading pretrained parameter \"encoder.encoder.0.cached_zero_vector\".\n",
            "Loading pretrained parameter \"encoder.encoder.0.W_i.weight\".\n",
            "Loading pretrained parameter \"encoder.encoder.0.W_h.weight\".\n",
            "Loading pretrained parameter \"encoder.encoder.0.W_o.weight\".\n",
            "Loading pretrained parameter \"encoder.encoder.0.W_o.bias\".\n",
            "Loading pretrained parameter \"ffn.1.weight\".\n",
            "Loading pretrained parameter \"ffn.1.bias\".\n",
            "Loading pretrained parameter \"ffn.4.weight\".\n",
            "Loading pretrained parameter \"ffn.4.bias\".\n",
            "Moving model to cuda\n"
          ]
        },
        {
          "name": "stderr",
          "output_type": "stream",
          "text": [
            "100%|██████████| 1/1 [00:00<00:00,  2.26it/s]"
          ]
        },
        {
          "name": "stdout",
          "output_type": "stream",
          "text": [
            "Saving predictions to /dev/null\n",
            "Elapsed time = 0:00:01\n"
          ]
        },
        {
          "name": "stderr",
          "output_type": "stream",
          "text": [
            "\n"
          ]
        }
      ],
      "source": [
        "smiles = [['CCC'], ['CCCC'], ['OCC']]\n",
        "arguments = [\n",
        "    '--test_path', '/dev/null',\n",
        "    '--preds_path', '/dev/null',\n",
        "    '--checkpoint_dir', 'test_checkpoints_reg'\n",
        "]\n",
        "\n",
        "args = chemprop.args.PredictArgs().parse_args(arguments)\n",
        "preds = chemprop.train.make_predictions(args=args, smiles=smiles)"
      ]
    },
    {
      "cell_type": "code",
      "execution_count": 11,
      "metadata": {},
      "outputs": [
        {
          "data": {
            "text/plain": [
              "[[-1.0928406177736267], [-1.9473260860029453], [-0.000890267275232226]]"
            ]
          },
          "execution_count": 11,
          "metadata": {},
          "output_type": "execute_result"
        }
      ],
      "source": [
        "preds"
      ]
    },
    {
      "cell_type": "markdown",
      "metadata": {
        "id": "54x-eGwxLEZ1"
      },
      "source": [
        "# Load model once, predict multiple times"
      ]
    },
    {
      "cell_type": "code",
      "execution_count": null,
      "metadata": {
        "colab": {
          "base_uri": "https://localhost:8080/"
        },
        "id": "ICmfelGD7rcf",
        "outputId": "f0c65fb0-e3b6-4d96-e05b-aa98226beedc",
        "scrolled": true
      },
      "outputs": [],
      "source": [
        "arguments = [\n",
        "    '--test_path', '/dev/null',\n",
        "    '--preds_path', '/dev/null',\n",
        "    '--checkpoint_dir', 'test_checkpoints_reg'\n",
        "]\n",
        "\n",
        "args = chemprop.args.PredictArgs().parse_args(arguments)\n",
        "\n",
        "model_objects = chemprop.train.load_model(args=args)\n",
        "\n",
        "smiles = [['CCC'], ['CCCC'], ['OCC']]\n",
        "preds = chemprop.train.make_predictions(args=args, smiles=smiles, model_objects=model_objects)\n",
        "\n",
        "smiles = [['CCCC'], ['CCCCC'], ['COCC']]\n",
        "preds = chemprop.train.make_predictions(args=args, smiles=smiles, model_objects=model_objects)"
      ]
    },
    {
      "cell_type": "markdown",
      "metadata": {
        "id": "7jCqwGfYqj4w"
      },
      "source": [
        "# Reactions"
      ]
    },
    {
      "cell_type": "code",
      "execution_count": null,
      "metadata": {
        "colab": {
          "base_uri": "https://localhost:8080/",
          "height": 424
        },
        "id": "6RltQMn8qj4w",
        "outputId": "3fb4a758-4b18-4b62-92ef-aa8553d65b10"
      },
      "outputs": [],
      "source": [
        "reaction_reg_df = pd.read_csv('tests/data/reaction_regression.csv')\n",
        "reaction_reg_df"
      ]
    },
    {
      "cell_type": "code",
      "execution_count": null,
      "metadata": {
        "colab": {
          "base_uri": "https://localhost:8080/"
        },
        "id": "faZ5arGiqj4w",
        "outputId": "a0a781ad-1e44-4678-870b-2cf53f9522af"
      },
      "outputs": [],
      "source": [
        "arguments = [\n",
        "    '--data_path', 'tests/data/reaction_regression.csv',\n",
        "    '--dataset_type', 'regression',\n",
        "    '--save_dir', 'test_checkpoints_reaction',\n",
        "    '--epochs', '5',\n",
        "    '--reaction',\n",
        "    '--save_smiles_splits'\n",
        "]\n",
        "\n",
        "args = chemprop.args.TrainArgs().parse_args(arguments)\n",
        "mean_score, std_score = chemprop.train.cross_validate(args=args, train_func=chemprop.train.run_training)"
      ]
    },
    {
      "cell_type": "code",
      "execution_count": null,
      "metadata": {
        "colab": {
          "base_uri": "https://localhost:8080/"
        },
        "id": "U0uWRx5Zqj4w",
        "outputId": "013b8063-d188-40da-9cb8-5572db99f4be",
        "scrolled": true
      },
      "outputs": [],
      "source": [
        "arguments = [\n",
        "    '--test_path', 'test_checkpoints_reaction/fold_0/test_smiles.csv',\n",
        "    '--preds_path', 'test_preds_reaction.csv',\n",
        "    '--checkpoint_dir', 'test_checkpoints_reaction'\n",
        "]\n",
        "\n",
        "args = chemprop.args.PredictArgs().parse_args(arguments)\n",
        "preds = chemprop.train.make_predictions(args=args)"
      ]
    },
    {
      "cell_type": "code",
      "execution_count": null,
      "metadata": {
        "colab": {
          "base_uri": "https://localhost:8080/",
          "height": 279
        },
        "id": "0jAsBzayqj4w",
        "outputId": "f9ed6762-b6fe-4b9c-867c-e658804364c2"
      },
      "outputs": [],
      "source": [
        "df = pd.read_csv('test_checkpoints_reaction/fold_0/test_full.csv')\n",
        "df['preds'] = [x[0] for x in preds]\n",
        "\n",
        "plot_parity(df.ea, df.preds)"
      ]
    },
    {
      "cell_type": "markdown",
      "metadata": {
        "id": "ROjlinX0qj4x"
      },
      "source": [
        "# Multiple-Molecule Inputs"
      ]
    },
    {
      "cell_type": "code",
      "execution_count": null,
      "metadata": {
        "colab": {
          "base_uri": "https://localhost:8080/",
          "height": 424
        },
        "id": "1dc99YcRqj4x",
        "outputId": "b34db34b-5fe8-4494-bf58-3790829e17e4"
      },
      "outputs": [],
      "source": [
        "multimolecule_df = pd.read_csv('tests/data/classification_multimolecule.csv')\n",
        "multimolecule_df"
      ]
    },
    {
      "cell_type": "code",
      "execution_count": null,
      "metadata": {
        "colab": {
          "base_uri": "https://localhost:8080/"
        },
        "id": "xPRnEIzpqj4x",
        "outputId": "265d990d-17c2-4e5a-88e0-6e156f4aa566",
        "scrolled": true
      },
      "outputs": [],
      "source": [
        "arguments = [\n",
        "    '--data_path', 'tests/data/classification_multimolecule.csv',\n",
        "    '--dataset_type', 'classification',\n",
        "    '--save_dir', 'test_checkpoints_multimolecule',\n",
        "    '--epochs', '5',\n",
        "    '--save_smiles_splits',\n",
        "    '--number_of_molecules', '2',\n",
        "    '--split_key_molecule', '1' # defaults to 0 (1st column) if not specified\n",
        "]\n",
        "\n",
        "args = chemprop.args.TrainArgs().parse_args(arguments)\n",
        "mean_score, std_score = chemprop.train.cross_validate(args=args, train_func=chemprop.train.run_training)"
      ]
    },
    {
      "cell_type": "code",
      "execution_count": null,
      "metadata": {
        "colab": {
          "base_uri": "https://localhost:8080/"
        },
        "id": "ug8U-ZdIqj4x",
        "outputId": "d252c71a-fe9d-4c80-d131-3980c1aa92ce",
        "scrolled": true
      },
      "outputs": [],
      "source": [
        "arguments = [\n",
        "    '--test_path', 'test_checkpoints_multimolecule/fold_0/test_smiles.csv',\n",
        "    '--preds_path', 'test_preds_multimolecule.csv',\n",
        "    '--checkpoint_dir', 'test_checkpoints_multimolecule',\n",
        "    '--number_of_molecules', '2',\n",
        "]\n",
        "\n",
        "args = chemprop.args.PredictArgs().parse_args(arguments)\n",
        "preds = chemprop.train.make_predictions(args=args)"
      ]
    },
    {
      "cell_type": "markdown",
      "metadata": {
        "id": "ra4xqKLHqj4x"
      },
      "source": [
        "# Split Type"
      ]
    },
    {
      "cell_type": "code",
      "execution_count": null,
      "metadata": {
        "colab": {
          "base_uri": "https://localhost:8080/"
        },
        "id": "VTlgNjW1qj4x",
        "outputId": "a76314d5-9cab-4b88-d9af-a4e3a47fb19d"
      },
      "outputs": [],
      "source": [
        "arguments = [\n",
        "    '--data_path', 'tests/data/regression.csv',\n",
        "    '--dataset_type', 'regression',\n",
        "    '--save_dir', 'test_checkpoints_splits',\n",
        "    '--epochs', '5',\n",
        "    '--split_type', 'scaffold_balanced',\n",
        "    '--save_smiles_splits'\n",
        "]\n",
        "\n",
        "args = chemprop.args.TrainArgs().parse_args(arguments)\n",
        "mean_score, std_score = chemprop.train.cross_validate(args=args, train_func=chemprop.train.run_training)"
      ]
    },
    {
      "cell_type": "code",
      "execution_count": null,
      "metadata": {
        "colab": {
          "base_uri": "https://localhost:8080/"
        },
        "id": "V6d_mNCkqj4x",
        "outputId": "594f518b-fd1d-463c-dd17-aa5fe6937515"
      },
      "outputs": [],
      "source": [
        "arguments = [\n",
        "    '--test_path', 'test_checkpoints_splits/fold_0/test_smiles.csv',\n",
        "    '--preds_path', 'test_preds_splits.csv',\n",
        "    '--checkpoint_dir', 'test_checkpoints_splits',\n",
        "]\n",
        "\n",
        "args = chemprop.args.PredictArgs().parse_args(arguments)\n",
        "preds = chemprop.train.make_predictions(args=args)"
      ]
    },
    {
      "cell_type": "code",
      "execution_count": null,
      "metadata": {
        "colab": {
          "base_uri": "https://localhost:8080/",
          "height": 282
        },
        "id": "wyzQ_o50qj4x",
        "outputId": "0065779f-0869-4f6a-83b7-3ca58208a023"
      },
      "outputs": [],
      "source": [
        "df = pd.read_csv('test_checkpoints_splits/fold_0/test_full.csv')\n",
        "df['preds'] = [x[0] for x in preds]\n",
        "\n",
        "plot_parity(df.logSolubility, df.preds)"
      ]
    },
    {
      "cell_type": "markdown",
      "metadata": {
        "id": "WNacITwVqj4x"
      },
      "source": [
        "# Ensembling and Uncertainty"
      ]
    },
    {
      "cell_type": "code",
      "execution_count": null,
      "metadata": {
        "colab": {
          "base_uri": "https://localhost:8080/"
        },
        "id": "RpXC83NMqj4x",
        "outputId": "58085646-7157-42d2-d012-5b132b3c02bb"
      },
      "outputs": [],
      "source": [
        "arguments = [\n",
        "    '--data_path', 'tests/data/reaction_regression.csv',\n",
        "    '--dataset_type', 'regression',\n",
        "    '--save_dir', 'test_checkpoints_ensemble',\n",
        "    '--epochs', '5',\n",
        "    '--reaction',\n",
        "    '--save_smiles_splits',\n",
        "    '--ensemble_size', '5',\n",
        "    '--split_type', 'scaffold_balanced'\n",
        "]\n",
        "\n",
        "args = chemprop.args.TrainArgs().parse_args(arguments)\n",
        "mean_score, std_score = chemprop.train.cross_validate(args=args, train_func=chemprop.train.run_training)"
      ]
    },
    {
      "cell_type": "code",
      "execution_count": null,
      "metadata": {
        "colab": {
          "base_uri": "https://localhost:8080/"
        },
        "id": "wt8ItRG3qj4x",
        "outputId": "3026c834-4ff7-4c2f-b141-17d5a4950a58",
        "scrolled": true
      },
      "outputs": [],
      "source": [
        "arguments = [\n",
        "    '--test_path', 'test_checkpoints_ensemble/fold_0/test_smiles.csv',\n",
        "    '--preds_path', 'test_preds_ensemble.csv',\n",
        "    '--checkpoint_dir', 'test_checkpoints_ensemble',\n",
        "    '--ensemble_variance'\n",
        "]\n",
        "\n",
        "args = chemprop.args.PredictArgs().parse_args(arguments)\n",
        "preds = chemprop.train.make_predictions(args=args)"
      ]
    },
    {
      "cell_type": "code",
      "execution_count": null,
      "metadata": {
        "colab": {
          "base_uri": "https://localhost:8080/",
          "height": 1000
        },
        "id": "5WaSuowCqj4x",
        "outputId": "0d6e3b38-b835-4d32-dae9-8939cf5c23fb",
        "scrolled": true
      },
      "outputs": [],
      "source": [
        "preds_df = pd.read_csv('test_preds_ensemble.csv')\n",
        "preds_df"
      ]
    },
    {
      "cell_type": "code",
      "execution_count": null,
      "metadata": {
        "colab": {
          "base_uri": "https://localhost:8080/",
          "height": 279
        },
        "id": "IDoQXtURqj4y",
        "outputId": "da11e8ff-9738-419f-d269-fd18215ff400"
      },
      "outputs": [],
      "source": [
        "df = pd.read_csv('test_checkpoints_ensemble/fold_0/test_full.csv')\n",
        "plot_parity(df.ea, preds_df.ea, preds_df.ea_ensemble_uncal_var)"
      ]
    },
    {
      "cell_type": "markdown",
      "metadata": {
        "id": "b9IskYn_qj4y"
      },
      "source": [
        "# Fingerprint"
      ]
    },
    {
      "cell_type": "code",
      "execution_count": null,
      "metadata": {
        "colab": {
          "base_uri": "https://localhost:8080/"
        },
        "id": "1JIABGusqj4y",
        "outputId": "fc4f5f14-394d-41f3-de6c-de79c5b1eb58",
        "scrolled": true
      },
      "outputs": [],
      "source": [
        "arguments = [\n",
        "    '--test_path', 'tests/data/regression.csv',\n",
        "    '--preds_path', 'test_preds_fingerprint.csv',\n",
        "    '--checkpoint_dir', 'test_checkpoints_reg',\n",
        "    '--fingerprint_type', 'MPN'\n",
        "]\n",
        "\n",
        "args = chemprop.args.FingerprintArgs().parse_args(arguments)\n",
        "preds = chemprop.train.molecule_fingerprint.molecule_fingerprint(args=args)"
      ]
    },
    {
      "cell_type": "code",
      "execution_count": null,
      "metadata": {
        "colab": {
          "base_uri": "https://localhost:8080/"
        },
        "id": "Q2zDA4Hxqj4y",
        "outputId": "ff1ff2de-ad2d-4595-ecdb-b8266b6edd7c"
      },
      "outputs": [],
      "source": [
        "preds.squeeze().shape"
      ]
    },
    {
      "cell_type": "code",
      "execution_count": null,
      "metadata": {
        "colab": {
          "base_uri": "https://localhost:8080/",
          "height": 279
        },
        "id": "ucy2Bn5Kqj4y",
        "outputId": "892efe4c-5df3-42d5-e51b-a256065ba3f3"
      },
      "outputs": [],
      "source": [
        "df = pd.read_csv('tests/data/regression.csv')\n",
        "\n",
        "pca = PCA(n_components=2)\n",
        "pca_xy = pca.fit_transform(preds.squeeze())\n",
        "plt.scatter(pca_xy[:,0], pca_xy[:,1], s=30, c=df.logSolubility, edgecolor='w')\n",
        "plt.colorbar(label='logSolubility')\n",
        "plt.xlabel('PCA 1')\n",
        "plt.ylabel('PCA 2')\n",
        "plt.show()"
      ]
    },
    {
      "cell_type": "markdown",
      "metadata": {
        "id": "oGUPCknvqj4y"
      },
      "source": [
        "# Spectra"
      ]
    },
    {
      "cell_type": "code",
      "execution_count": null,
      "metadata": {
        "colab": {
          "base_uri": "https://localhost:8080/"
        },
        "id": "bwF0PzS9qj4y",
        "outputId": "19a410d9-09dd-49f0-877c-0143444be71c"
      },
      "outputs": [],
      "source": [
        "arguments = [\n",
        "    '--data_path', 'tests/data/spectra.csv',\n",
        "    '--dataset_type', 'spectra',\n",
        "    '--save_dir', 'test_checkpoints_spectra',\n",
        "    '--epochs', '5',\n",
        "    '--features_path', 'tests/data/spectra_features.csv',\n",
        "    '--split_type', 'random_with_repeated_smiles',\n",
        "    '--save_smiles_splits'\n",
        "]\n",
        "\n",
        "args = chemprop.args.TrainArgs().parse_args(arguments)\n",
        "mean_score, std_score = chemprop.train.cross_validate(args=args, train_func=chemprop.train.run_training)       "
      ]
    },
    {
      "cell_type": "code",
      "execution_count": null,
      "metadata": {
        "colab": {
          "base_uri": "https://localhost:8080/"
        },
        "id": "e2tFb6TKqj4y",
        "outputId": "2b2727ef-4c08-41f0-f20f-d0af4657895d",
        "scrolled": true
      },
      "outputs": [],
      "source": [
        "arguments = [\n",
        "    '--test_path', 'test_checkpoints_spectra/fold_0/test_smiles.csv',\n",
        "    '--preds_path', 'test_preds_spectra.csv',\n",
        "    '--checkpoint_dir', 'test_checkpoints_spectra',\n",
        "    '--features_path', 'tests/data/spectra_features.csv'\n",
        "]\n",
        "\n",
        "args = chemprop.args.PredictArgs().parse_args(arguments)\n",
        "preds = chemprop.train.make_predictions(args=args)"
      ]
    },
    {
      "cell_type": "markdown",
      "metadata": {
        "id": "0kinNKidqj4y"
      },
      "source": [
        "# Pretraining / Transfer Learning"
      ]
    },
    {
      "cell_type": "code",
      "execution_count": null,
      "metadata": {
        "colab": {
          "base_uri": "https://localhost:8080/"
        },
        "id": "dM8pI9p6qj4y",
        "outputId": "85c7135a-a819-4c1d-d930-36f0f35cc16f"
      },
      "outputs": [],
      "source": [
        "arguments = [\n",
        "    '--data_path', 'tests/data/regression.csv',\n",
        "    '--dataset_type', 'regression',\n",
        "    '--save_dir', 'test_checkpoints_transfer',\n",
        "    '--epochs', '5',\n",
        "    '--save_smiles_splits'\n",
        "]\n",
        "\n",
        "args = chemprop.args.TrainArgs().parse_args(arguments)\n",
        "mean_score, std_score = chemprop.train.cross_validate(args=args, train_func=chemprop.train.run_training)       "
      ]
    },
    {
      "cell_type": "code",
      "execution_count": null,
      "metadata": {
        "colab": {
          "base_uri": "https://localhost:8080/"
        },
        "id": "3LVDRXsCqj4z",
        "outputId": "a56b6210-41e1-4a5f-da3d-768162de42cd"
      },
      "outputs": [],
      "source": [
        "arguments = [\n",
        "    '--data_path', 'tests/data/regression.csv',\n",
        "    '--dataset_type', 'regression',\n",
        "    '--save_dir', 'test_checkpoints_transfer',\n",
        "    '--epochs', '5',\n",
        "    '--checkpoint_frzn', 'test_checkpoints_transfer/fold_0/model_0/model.pt'\n",
        "]\n",
        "\n",
        "args = chemprop.args.TrainArgs().parse_args(arguments)\n",
        "mean_score, std_score = chemprop.train.cross_validate(args=args, train_func=chemprop.train.run_training)       "
      ]
    },
    {
      "cell_type": "code",
      "execution_count": null,
      "metadata": {
        "colab": {
          "base_uri": "https://localhost:8080/"
        },
        "id": "3EKNdFKKqj4z",
        "outputId": "ae294d3c-347c-41e0-d930-967fac6c2d29",
        "scrolled": true
      },
      "outputs": [],
      "source": [
        "arguments = [\n",
        "    '--test_path', 'test_checkpoints_transfer/fold_0/test_smiles.csv',\n",
        "    '--preds_path', 'test_preds_transfer.csv',\n",
        "    '--checkpoint_dir', 'test_checkpoints_transfer',\n",
        "]\n",
        "\n",
        "args = chemprop.args.PredictArgs().parse_args(arguments)\n",
        "preds = chemprop.train.make_predictions(args=args)"
      ]
    }
  ],
  "metadata": {
    "colab": {
      "name": "chemprop_colab_demo.ipynb",
      "provenance": []
    },
    "kernelspec": {
      "display_name": "Python 3.10.6 ('chemprop')",
      "language": "python",
      "name": "python3"
    },
    "language_info": {
      "codemirror_mode": {
        "name": "ipython",
        "version": 3
      },
      "file_extension": ".py",
      "mimetype": "text/x-python",
      "name": "python",
      "nbconvert_exporter": "python",
      "pygments_lexer": "ipython3",
      "version": "3.10.6 | packaged by conda-forge | (main, Aug 22 2022, 20:35:26) [GCC 10.4.0]"
    },
    "vscode": {
      "interpreter": {
        "hash": "834cb905a9317a2cbe60a71f431abd1beea746a2987041bd0d3fa1f6d16703ae"
      }
    }
  },
  "nbformat": 4,
  "nbformat_minor": 0
}
