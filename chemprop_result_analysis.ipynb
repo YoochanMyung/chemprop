{
 "cells": [
  {
   "cell_type": "code",
   "execution_count": 1,
   "metadata": {},
   "outputs": [],
   "source": [
    "import pandas as pd\n",
    "import glob\n",
    "import sys\n",
    "import os\n",
    "pd.set_option('display.max_rows', 500)\n",
    "\n",
    "# classification_task_result_files = '/home/ymyung/projects/deeppk/3_Results/classification_MPNN_results/1_Basic'\n",
    "# regression_task_result_files = '/home/ymyung/projects/deeppk/3_Results/regression_MPNN_results/1_Basic'\n",
    "\n",
    "# interpretable_results_class = '/home/ymyung/projects/deeppk/interpretable_admet_performance_class.csv'\n",
    "# interpretable_results_reg = '/home/ymyung/projects/deeppk/interpretable_admet_performance_reg.csv'\n",
    "all_results_class = '/home/ymyung/projects/deeppk/all_performance_class.csv'\n",
    "all_results_reg = '/home/ymyung/projects/deeppk/all_performance_reg.csv'\n",
    "\n",
    "# class_file_list = glob.glob(os.path.join(classification_task_result_files,'**/**/**_scores.json'))\n",
    "# reg_file_list = glob.glob(os.path.join(regression_task_result_files,'**/**/**_scores.json'))\n",
    "\n",
    "\n",
    "# dir_path = '/home/ymyung/projects/deeppk/3_Results/All'\n",
    "# dir_path = '/home/ymyung/projects/deeppk/3_Results/All_Random_300EPOCH'\n",
    "dir_path = '/home/ymyung/projects/deeppk/3_Results/all_new'\n",
    "all_results_list= glob.glob(os.path.join(dir_path,'**','**_scores.json'), recursive=True)\n",
    "\n",
    "reg_file_list = list()\n",
    "class_file_list = list()\n",
    "\n",
    "for each_csv in all_results_list:\n",
    "    if 'accuracy' in pd.read_json(each_csv).columns:\n",
    "        class_file_list.append(each_csv)\n",
    "    else:\n",
    "        reg_file_list.append(each_csv)\n"
   ]
  },
  {
   "cell_type": "markdown",
   "metadata": {},
   "source": [
    "### Score Retriving Methods for in-house Classification/Regression results"
   ]
  },
  {
   "cell_type": "code",
   "execution_count": 14,
   "metadata": {},
   "outputs": [],
   "source": [
    "def get_class_scores(class_file_list, type_of_run):\n",
    "    class_summary_pd = pd.DataFrame()\n",
    "    class_file_list = [c_file for c_file in class_file_list if type_of_run.lower() in c_file]\n",
    "\n",
    "    for _json in class_file_list:\n",
    "        print(_json)\n",
    "        if 'fold_4' in _json:\n",
    "            print(_json)\n",
    "            # _property_name = _json.split('/fold_0')[0].split('/All/')[1]\n",
    "            _property_name = _json.split('/fold_4')[0].split('/all_new/')[1]\n",
    "\n",
    "\n",
    "            score_pd = pd.read_json(_json)\n",
    "            score_pd['property'] = _property_name\n",
    "            score_pd['database'] = 'MPNN-{}'.format(type_of_run)\n",
    "            score_pd.set_index('property',inplace=True)\n",
    "            class_summary_pd = pd.concat([class_summary_pd,score_pd],axis=0)\n",
    "\n",
    "        return class_summary_pd\n",
    "\n",
    "def get_reg_scores(reg_file_list, type_of_run):\n",
    "    reg_summary_pd = pd.DataFrame()\n",
    "    reg_file_list = [c_file for c_file in reg_file_list if type_of_run.lower() in c_file]\n",
    "\n",
    "    for _json in reg_file_list:\n",
    "        if 'fold_4' in _json:\n",
    "            # _property_name = _json.split('/fold_0')[0].split('/All/')[1]\n",
    "            _property_name = _json.split('/fold_4')[0].split('/all_new/')[1]\n",
    "\n",
    "            score_pd = pd.read_json(_json)\n",
    "            score_pd['property'] = _property_name\n",
    "            score_pd['database'] = 'MPNN-{}'.format(type_of_run)\n",
    "            score_pd.set_index('property',inplace=True)\n",
    "            reg_summary_pd = pd.concat([reg_summary_pd,score_pd],axis=0)\n",
    "\n",
    "        return reg_summary_pd"
   ]
  },
  {
   "cell_type": "markdown",
   "metadata": {},
   "source": [
    "### Score Retriving Methods for Interpretable-ADMET Classification/Regression results"
   ]
  },
  {
   "cell_type": "code",
   "execution_count": 7,
   "metadata": {},
   "outputs": [],
   "source": [
    "def get_class_scores_interpretable(result_csv):\n",
    "    result_pd = pd.read_csv(result_csv)\n",
    "    return result_pd"
   ]
  },
  {
   "cell_type": "markdown",
   "metadata": {},
   "source": [
    "### Methods for comparing in-house and Interpretable-ADMET results"
   ]
  },
  {
   "cell_type": "code",
   "execution_count": 8,
   "metadata": {},
   "outputs": [],
   "source": [
    "def compare_class(class_file_list,interpretable_results_class,type_of_run):\n",
    "    out_pd = pd.DataFrame()\n",
    "\n",
    "    our_pd = get_class_scores(class_file_list,type_of_run)\n",
    "    int_pd = get_class_scores_interpretable(interpretable_results_class)\n",
    "    int_pd = int_pd.query('Database.str.contains(@type_of_run)')\n",
    "\n",
    "    for group_id, group_cont in int_pd.groupby(by='Database'):\n",
    "        # print(our_pd.query('index == \"caco_2\"'))\n",
    "        # print(group_cont.set_index('property').index)\n",
    "\n",
    "        _pd = pd.concat([our_pd,group_cont.set_index('Property')], axis=1)\n",
    "        _pd['d_ACC'] = round(_pd['accuracy'] - _pd['ACC'],3)\n",
    "        _pd['d_MCC'] = round(_pd['mcc'] - _pd['MCC'],3)\n",
    "        _pd['d_AUC'] = round(_pd['auc'] - _pd['AUC'],3)\n",
    "\n",
    "        out_pd = pd.concat([out_pd,_pd])\n",
    "\n",
    "    out_pd.drop_duplicates(inplace=True)\n",
    "    out_pd.dropna(subset=['mcc'],inplace=True)\n",
    "    return out_pd\n",
    "\n",
    "def compare_reg(reg_file_list,interpretable_results_reg,type_of_run):\n",
    "    out_pd = pd.DataFrame()\n",
    "\n",
    "    our_pd = get_reg_scores(reg_file_list,type_of_run)\n",
    "    int_pd = get_class_scores_interpretable(interpretable_results_reg)\n",
    "\n",
    "    int_pd = int_pd.query('Database.str.contains(@type_of_run)')\n",
    "\n",
    "    for group_id, group_cont in int_pd.groupby(by='Database'):\n",
    "    # for group_id, group_cont in int_pd.groupby(by='Database'):\n",
    "\n",
    "        _pd = pd.concat([our_pd,group_cont.set_index('Property')],axis=1)\n",
    "        # _pd = _pd.dropna()\n",
    "        _pd['d_RMSE'] = round(_pd['rmse'] - _pd['RMSE'],3)\n",
    "        _pd['d_R2'] = round(_pd['r2'] - _pd['Q2'],3)\n",
    "        # print(_pd)\n",
    "        out_pd = pd.concat([out_pd,_pd])\n",
    "\n",
    "    out_pd.drop_duplicates(inplace=True)\n",
    "    return out_pd\n"
   ]
  },
  {
   "cell_type": "code",
   "execution_count": 15,
   "metadata": {},
   "outputs": [
    {
     "name": "stdout",
     "output_type": "stream",
     "text": [
      "/home/ymyung/projects/deeppk/3_Results/all_new/fdamdd_class/fold_3/test_scores.json\n"
     ]
    },
    {
     "ename": "KeyError",
     "evalue": "'accuracy'",
     "output_type": "error",
     "traceback": [
      "\u001b[0;31m---------------------------------------------------------------------------\u001b[0m",
      "\u001b[0;31mKeyError\u001b[0m                                  Traceback (most recent call last)",
      "File \u001b[0;32m~/miniconda3/envs/chemprop/lib/python3.10/site-packages/pandas/core/indexes/base.py:3629\u001b[0m, in \u001b[0;36mIndex.get_loc\u001b[0;34m(self, key, method, tolerance)\u001b[0m\n\u001b[1;32m   3628\u001b[0m \u001b[39mtry\u001b[39;00m:\n\u001b[0;32m-> 3629\u001b[0m     \u001b[39mreturn\u001b[39;00m \u001b[39mself\u001b[39;49m\u001b[39m.\u001b[39;49m_engine\u001b[39m.\u001b[39;49mget_loc(casted_key)\n\u001b[1;32m   3630\u001b[0m \u001b[39mexcept\u001b[39;00m \u001b[39mKeyError\u001b[39;00m \u001b[39mas\u001b[39;00m err:\n",
      "File \u001b[0;32m~/miniconda3/envs/chemprop/lib/python3.10/site-packages/pandas/_libs/index.pyx:136\u001b[0m, in \u001b[0;36mpandas._libs.index.IndexEngine.get_loc\u001b[0;34m()\u001b[0m\n",
      "File \u001b[0;32m~/miniconda3/envs/chemprop/lib/python3.10/site-packages/pandas/_libs/index.pyx:163\u001b[0m, in \u001b[0;36mpandas._libs.index.IndexEngine.get_loc\u001b[0;34m()\u001b[0m\n",
      "File \u001b[0;32mpandas/_libs/hashtable_class_helper.pxi:5198\u001b[0m, in \u001b[0;36mpandas._libs.hashtable.PyObjectHashTable.get_item\u001b[0;34m()\u001b[0m\n",
      "File \u001b[0;32mpandas/_libs/hashtable_class_helper.pxi:5206\u001b[0m, in \u001b[0;36mpandas._libs.hashtable.PyObjectHashTable.get_item\u001b[0;34m()\u001b[0m\n",
      "\u001b[0;31mKeyError\u001b[0m: 'accuracy'",
      "\nThe above exception was the direct cause of the following exception:\n",
      "\u001b[0;31mKeyError\u001b[0m                                  Traceback (most recent call last)",
      "\u001b[1;32m/home/ymyung/projects/deeppk/src/chemprop/chemprop_result_analysis.ipynb Cell 8\u001b[0m in \u001b[0;36m<cell line: 1>\u001b[0;34m()\u001b[0m\n\u001b[0;32m----> <a href='vscode-notebook-cell:/home/ymyung/projects/deeppk/src/chemprop/chemprop_result_analysis.ipynb#X10sZmlsZQ%3D%3D?line=0'>1</a>\u001b[0m compare_class(class_file_list,all_results_class,\u001b[39m'\u001b[39;49m\u001b[39mTest\u001b[39;49m\u001b[39m'\u001b[39;49m)\u001b[39m.\u001b[39msort_values(by\u001b[39m=\u001b[39m\u001b[39m'\u001b[39m\u001b[39md_MCC\u001b[39m\u001b[39m'\u001b[39m, ascending\u001b[39m=\u001b[39m\u001b[39mFalse\u001b[39;00m)\u001b[39m.\u001b[39msort_index()\u001b[39m.\u001b[39mdropna(subset\u001b[39m=\u001b[39m[\u001b[39m'\u001b[39m\u001b[39maccuracy\u001b[39m\u001b[39m'\u001b[39m])\n",
      "\u001b[1;32m/home/ymyung/projects/deeppk/src/chemprop/chemprop_result_analysis.ipynb Cell 8\u001b[0m in \u001b[0;36mcompare_class\u001b[0;34m(class_file_list, interpretable_results_class, type_of_run)\u001b[0m\n\u001b[1;32m      <a href='vscode-notebook-cell:/home/ymyung/projects/deeppk/src/chemprop/chemprop_result_analysis.ipynb#X10sZmlsZQ%3D%3D?line=7'>8</a>\u001b[0m \u001b[39mfor\u001b[39;00m group_id, group_cont \u001b[39min\u001b[39;00m int_pd\u001b[39m.\u001b[39mgroupby(by\u001b[39m=\u001b[39m\u001b[39m'\u001b[39m\u001b[39mDatabase\u001b[39m\u001b[39m'\u001b[39m):\n\u001b[1;32m      <a href='vscode-notebook-cell:/home/ymyung/projects/deeppk/src/chemprop/chemprop_result_analysis.ipynb#X10sZmlsZQ%3D%3D?line=8'>9</a>\u001b[0m     \u001b[39m# print(our_pd.query('index == \"caco_2\"'))\u001b[39;00m\n\u001b[1;32m     <a href='vscode-notebook-cell:/home/ymyung/projects/deeppk/src/chemprop/chemprop_result_analysis.ipynb#X10sZmlsZQ%3D%3D?line=9'>10</a>\u001b[0m     \u001b[39m# print(group_cont.set_index('property').index)\u001b[39;00m\n\u001b[1;32m     <a href='vscode-notebook-cell:/home/ymyung/projects/deeppk/src/chemprop/chemprop_result_analysis.ipynb#X10sZmlsZQ%3D%3D?line=11'>12</a>\u001b[0m     _pd \u001b[39m=\u001b[39m pd\u001b[39m.\u001b[39mconcat([our_pd,group_cont\u001b[39m.\u001b[39mset_index(\u001b[39m'\u001b[39m\u001b[39mProperty\u001b[39m\u001b[39m'\u001b[39m)], axis\u001b[39m=\u001b[39m\u001b[39m1\u001b[39m)\n\u001b[0;32m---> <a href='vscode-notebook-cell:/home/ymyung/projects/deeppk/src/chemprop/chemprop_result_analysis.ipynb#X10sZmlsZQ%3D%3D?line=12'>13</a>\u001b[0m     _pd[\u001b[39m'\u001b[39m\u001b[39md_ACC\u001b[39m\u001b[39m'\u001b[39m] \u001b[39m=\u001b[39m \u001b[39mround\u001b[39m(_pd[\u001b[39m'\u001b[39;49m\u001b[39maccuracy\u001b[39;49m\u001b[39m'\u001b[39;49m] \u001b[39m-\u001b[39m _pd[\u001b[39m'\u001b[39m\u001b[39mACC\u001b[39m\u001b[39m'\u001b[39m],\u001b[39m3\u001b[39m)\n\u001b[1;32m     <a href='vscode-notebook-cell:/home/ymyung/projects/deeppk/src/chemprop/chemprop_result_analysis.ipynb#X10sZmlsZQ%3D%3D?line=13'>14</a>\u001b[0m     _pd[\u001b[39m'\u001b[39m\u001b[39md_MCC\u001b[39m\u001b[39m'\u001b[39m] \u001b[39m=\u001b[39m \u001b[39mround\u001b[39m(_pd[\u001b[39m'\u001b[39m\u001b[39mmcc\u001b[39m\u001b[39m'\u001b[39m] \u001b[39m-\u001b[39m _pd[\u001b[39m'\u001b[39m\u001b[39mMCC\u001b[39m\u001b[39m'\u001b[39m],\u001b[39m3\u001b[39m)\n\u001b[1;32m     <a href='vscode-notebook-cell:/home/ymyung/projects/deeppk/src/chemprop/chemprop_result_analysis.ipynb#X10sZmlsZQ%3D%3D?line=14'>15</a>\u001b[0m     _pd[\u001b[39m'\u001b[39m\u001b[39md_AUC\u001b[39m\u001b[39m'\u001b[39m] \u001b[39m=\u001b[39m \u001b[39mround\u001b[39m(_pd[\u001b[39m'\u001b[39m\u001b[39mauc\u001b[39m\u001b[39m'\u001b[39m] \u001b[39m-\u001b[39m _pd[\u001b[39m'\u001b[39m\u001b[39mAUC\u001b[39m\u001b[39m'\u001b[39m],\u001b[39m3\u001b[39m)\n",
      "File \u001b[0;32m~/miniconda3/envs/chemprop/lib/python3.10/site-packages/pandas/core/frame.py:3505\u001b[0m, in \u001b[0;36mDataFrame.__getitem__\u001b[0;34m(self, key)\u001b[0m\n\u001b[1;32m   3503\u001b[0m \u001b[39mif\u001b[39;00m \u001b[39mself\u001b[39m\u001b[39m.\u001b[39mcolumns\u001b[39m.\u001b[39mnlevels \u001b[39m>\u001b[39m \u001b[39m1\u001b[39m:\n\u001b[1;32m   3504\u001b[0m     \u001b[39mreturn\u001b[39;00m \u001b[39mself\u001b[39m\u001b[39m.\u001b[39m_getitem_multilevel(key)\n\u001b[0;32m-> 3505\u001b[0m indexer \u001b[39m=\u001b[39m \u001b[39mself\u001b[39;49m\u001b[39m.\u001b[39;49mcolumns\u001b[39m.\u001b[39;49mget_loc(key)\n\u001b[1;32m   3506\u001b[0m \u001b[39mif\u001b[39;00m is_integer(indexer):\n\u001b[1;32m   3507\u001b[0m     indexer \u001b[39m=\u001b[39m [indexer]\n",
      "File \u001b[0;32m~/miniconda3/envs/chemprop/lib/python3.10/site-packages/pandas/core/indexes/base.py:3631\u001b[0m, in \u001b[0;36mIndex.get_loc\u001b[0;34m(self, key, method, tolerance)\u001b[0m\n\u001b[1;32m   3629\u001b[0m     \u001b[39mreturn\u001b[39;00m \u001b[39mself\u001b[39m\u001b[39m.\u001b[39m_engine\u001b[39m.\u001b[39mget_loc(casted_key)\n\u001b[1;32m   3630\u001b[0m \u001b[39mexcept\u001b[39;00m \u001b[39mKeyError\u001b[39;00m \u001b[39mas\u001b[39;00m err:\n\u001b[0;32m-> 3631\u001b[0m     \u001b[39mraise\u001b[39;00m \u001b[39mKeyError\u001b[39;00m(key) \u001b[39mfrom\u001b[39;00m \u001b[39merr\u001b[39;00m\n\u001b[1;32m   3632\u001b[0m \u001b[39mexcept\u001b[39;00m \u001b[39mTypeError\u001b[39;00m:\n\u001b[1;32m   3633\u001b[0m     \u001b[39m# If we have a listlike key, _check_indexing_error will raise\u001b[39;00m\n\u001b[1;32m   3634\u001b[0m     \u001b[39m#  InvalidIndexError. Otherwise we fall through and re-raise\u001b[39;00m\n\u001b[1;32m   3635\u001b[0m     \u001b[39m#  the TypeError.\u001b[39;00m\n\u001b[1;32m   3636\u001b[0m     \u001b[39mself\u001b[39m\u001b[39m.\u001b[39m_check_indexing_error(key)\n",
      "\u001b[0;31mKeyError\u001b[0m: 'accuracy'"
     ]
    }
   ],
   "source": [
    "compare_class(class_file_list,all_results_class,'Test').sort_values(by='d_MCC', ascending=False).sort_index().dropna(subset=['accuracy'])\n",
    "# compare_reg(reg_file_list,all_results_reg, 'Test').sort_values(by='d_R2', ascending=False).sort_index().dropna(subset=['r2'])"
   ]
  }
 ],
 "metadata": {
  "kernelspec": {
   "display_name": "Python 3.10.6 ('chemprop')",
   "language": "python",
   "name": "python3"
  },
  "language_info": {
   "codemirror_mode": {
    "name": "ipython",
    "version": 3
   },
   "file_extension": ".py",
   "mimetype": "text/x-python",
   "name": "python",
   "nbconvert_exporter": "python",
   "pygments_lexer": "ipython3",
   "version": "3.10.6"
  },
  "orig_nbformat": 4,
  "vscode": {
   "interpreter": {
    "hash": "834cb905a9317a2cbe60a71f431abd1beea746a2987041bd0d3fa1f6d16703ae"
   }
  }
 },
 "nbformat": 4,
 "nbformat_minor": 2
}
